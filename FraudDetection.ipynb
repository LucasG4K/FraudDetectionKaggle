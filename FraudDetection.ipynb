{
 "cells": [
  {
   "cell_type": "markdown",
   "id": "fdce464e",
   "metadata": {},
   "source": [
    "- *Note:* **This project was taken from a Kaggle Repository '[Fraud Detection Modeling Guidebook: A to Z](https://www.kaggle.com/code/hobeomlee/fraud-detection-modeling-guidebook-a-to-z/notebook)' by *@hobeomlee*. It was used by me, for training and exploration purposes and may use/add different tools or ways to approach.**\n",
    "\n",
    "- **It helped me understanding the proper steps to follow while doing a project in (specially) Data Science and how to search evidences to get better insights from the available data and also. Beyond that, it shows a good way to organize and document our leads.**"
   ]
  },
  {
   "cell_type": "code",
   "execution_count": null,
   "id": "a2d412f6-4c66-4b09-95d7-5c73446f1af0",
   "metadata": {},
   "outputs": [],
   "source": [
    "# IMPORTS\n",
    "\n",
    "# NULL VALUES\n",
    "import missingno as msno\n",
    "\n",
    "# VISUALIZATION\n",
    "import plotly.express as px\n",
    "import plotly.graph_objects as go\n",
    "from plotly.subplots import make_subplots\n",
    "import matplotlib.pyplot as plt\n",
    "import seaborn as sns\n",
    "sns.set_style('whitegrid')\n",
    "\n",
    "# ENCODING\n",
    "from sklearn.preprocessing import LabelEncoder\n",
    "\n",
    "# OUTLIERS\n",
    "from sklearn.experimental import enable_iterative_imputer\n",
    "from sklearn.impute import IterativeImputer\n",
    "import lightgbm as lgb\n",
    "\n",
    "# OVERSAMPLING\n",
    "from imblearn.over_sampling import SMOTE\n",
    "\n",
    "# CROSSVALIDATION\n",
    "from sklearn.feature_selection import RFECV, VarianceThreshold\n",
    "from sklearn.model_selection import StratifiedKFold\n",
    "\n",
    "# ML PREPARATION\n",
    "from sklearn.model_selection import train_test_split, GridSearchCV\n",
    "from sklearn.metrics import accuracy_score, precision_score, recall_score, f1_score, roc_auc_score, classification_report\n",
    "\n",
    "# ML ALGORITHMS\n",
    "from sklearn.linear_model import LogisticRegression\n",
    "from sklearn.svm import SVC\n",
    "from sklearn.neighbors import KNeighborsClassifier\n",
    "from sklearn.neural_network import MLPClassifier\n",
    "from sklearn.ensemble import RandomForestClassifier\n",
    "from sklearn.ensemble import GradientBoostingClassifier, HistGradientBoostingClassifier\n",
    "from imblearn.ensemble import BalancedRandomForestClassifier\n",
    "from sklearn.gaussian_process import GaussianProcessClassifier\n",
    "\n",
    "import optuna\n",
    "\n",
    "\n",
    "# ML - FEATURE IMPORTANCE\n",
    "from sklearn.inspection import permutation_importance\n",
    "\n",
    "# DATA\n",
    "import numpy as np\n",
    "import pandas as pd\n",
    "pd.options.display.max_columns = None"
   ]
  },
  {
   "cell_type": "markdown",
   "id": "c6b2d78d-f937-43ce-85ee-0194dfad5cb6",
   "metadata": {},
   "source": [
    "# 📊 01. Descriptive Analysis 📊"
   ]
  },
  {
   "cell_type": "code",
   "execution_count": 2,
   "id": "12a6ab6f-dee0-44dc-b7a2-9f230759be30",
   "metadata": {},
   "outputs": [
    {
     "data": {
      "text/plain": [
       "(15420, 33)"
      ]
     },
     "execution_count": 2,
     "metadata": {},
     "output_type": "execute_result"
    }
   ],
   "source": [
    "data_path = 'data/fraud_oracle.csv'\n",
    "raw_data = pd.read_csv(data_path)\n",
    "raw_data.shape"
   ]
  },
  {
   "cell_type": "markdown",
   "id": "b605fad5-09fc-46f9-8a58-845b0b7a38e5",
   "metadata": {},
   "source": [
    "#### 1) Definition of Features\n",
    "- **Month**                : Month of accident                               \n",
    "- **WeekOfMonth**          : Week of accident                                \n",
    "- **DayOfWeek**            : Day of accident                                 \n",
    "- **Make**                 : Manufacture company of car (19 companies)       \n",
    "- **AccidentArea**         : Area where accident took place (Rural or Urban) \n",
    "- **DayOfWeekClaimed**     : Day of filing Insurance claim                   \n",
    "- **MonthClaimed**         : Month of filing Insurance claim                 \n",
    "- **WeekOfMonthClaimed**   : Week of filing Insurance claim                  \n",
    "- **Sex**                  : Gender of Insurance claimant (Male or Female)   \n",
    "- **MaritalStatus**        : Single, married, widow and divorced             \n",
    "- **Age**                  : Age of Insurance policy holder                  \n",
    "- **Fault**                : Policy holder or third party                    \n",
    "- **PolicyType**           : Type of policies issued (1-9)                   \n",
    "- **VehicleCategory**      : Sedan, sport or utility                         \n",
    "- **VehiclePrice**         : Price of vehicle (6 categories)                 \n",
    "- **FraudFound_P**         : Binary Class (Yes or No)                        \n",
    "- **PolicyNumber**         : Policy number issued to customer\n",
    "- **RepNumber**            : ID of the person who handle the claim (16 categories)            \n",
    "- **Deductible**           : Amount to be deducted before claim disbursement                  \n",
    "- **DriverRating**         : Experience of the driver (4 categories)                          \n",
    "- **Days_Policy_Accident** : Days left in policy since accident                               \n",
    "- **Days_Policy_Claim**    : Days left in policy since filing of a claim                      \n",
    "- **PastNumberOfClaims**   : Past number of claims filed by customer                          \n",
    "- **AgeOfVehicle**         : Age of the vehicle (8 categories)                                \n",
    "- **AgeOfPolicyHolder**    : Policy holder’s age (9 categories)                               \n",
    "- **PoliceReportFiled**    : Police report filed after accident (Yes or No)                   \n",
    "- **WitnessPresent**       : Witness present during accident (Yes or No)                      \n",
    "- **AgentType**            : Type of insurance agent (Internal or External)                   \n",
    "- **NumberOfSuppliments**  : Number of supplements                                            \n",
    "- **AddressChange_Claim**  : Number of times change of address requested by insurance claimant\n",
    "- **NumberOfCars**         : Number of cars owned by the claimant                             \n",
    "- **Year**                 : Year – 1994, 1995 and 1996                                       \n",
    "- **BasePolicy**           : Base policy of the insurance (3 categories)                      "
   ]
  },
  {
   "cell_type": "code",
   "execution_count": 3,
   "id": "f0f57c3e-4de3-4308-aa0b-f9060aa0eac5",
   "metadata": {},
   "outputs": [
    {
     "data": {
      "text/html": [
       "<div>\n",
       "<style scoped>\n",
       "    .dataframe tbody tr th:only-of-type {\n",
       "        vertical-align: middle;\n",
       "    }\n",
       "\n",
       "    .dataframe tbody tr th {\n",
       "        vertical-align: top;\n",
       "    }\n",
       "\n",
       "    .dataframe thead th {\n",
       "        text-align: right;\n",
       "    }\n",
       "</style>\n",
       "<table border=\"1\" class=\"dataframe\">\n",
       "  <thead>\n",
       "    <tr style=\"text-align: right;\">\n",
       "      <th></th>\n",
       "      <th>Month</th>\n",
       "      <th>WeekOfMonth</th>\n",
       "      <th>DayOfWeek</th>\n",
       "      <th>Make</th>\n",
       "      <th>AccidentArea</th>\n",
       "      <th>DayOfWeekClaimed</th>\n",
       "      <th>MonthClaimed</th>\n",
       "      <th>WeekOfMonthClaimed</th>\n",
       "      <th>Sex</th>\n",
       "      <th>MaritalStatus</th>\n",
       "      <th>Age</th>\n",
       "      <th>Fault</th>\n",
       "      <th>PolicyType</th>\n",
       "      <th>VehicleCategory</th>\n",
       "      <th>VehiclePrice</th>\n",
       "      <th>FraudFound_P</th>\n",
       "      <th>PolicyNumber</th>\n",
       "      <th>RepNumber</th>\n",
       "      <th>Deductible</th>\n",
       "      <th>DriverRating</th>\n",
       "      <th>Days_Policy_Accident</th>\n",
       "      <th>Days_Policy_Claim</th>\n",
       "      <th>PastNumberOfClaims</th>\n",
       "      <th>AgeOfVehicle</th>\n",
       "      <th>AgeOfPolicyHolder</th>\n",
       "      <th>PoliceReportFiled</th>\n",
       "      <th>WitnessPresent</th>\n",
       "      <th>AgentType</th>\n",
       "      <th>NumberOfSuppliments</th>\n",
       "      <th>AddressChange_Claim</th>\n",
       "      <th>NumberOfCars</th>\n",
       "      <th>Year</th>\n",
       "      <th>BasePolicy</th>\n",
       "    </tr>\n",
       "  </thead>\n",
       "  <tbody>\n",
       "    <tr>\n",
       "      <th>0</th>\n",
       "      <td>Dec</td>\n",
       "      <td>5</td>\n",
       "      <td>Wednesday</td>\n",
       "      <td>Honda</td>\n",
       "      <td>Urban</td>\n",
       "      <td>Tuesday</td>\n",
       "      <td>Jan</td>\n",
       "      <td>1</td>\n",
       "      <td>Female</td>\n",
       "      <td>Single</td>\n",
       "      <td>21</td>\n",
       "      <td>Policy Holder</td>\n",
       "      <td>Sport - Liability</td>\n",
       "      <td>Sport</td>\n",
       "      <td>more than 69000</td>\n",
       "      <td>0</td>\n",
       "      <td>1</td>\n",
       "      <td>12</td>\n",
       "      <td>300</td>\n",
       "      <td>1</td>\n",
       "      <td>more than 30</td>\n",
       "      <td>more than 30</td>\n",
       "      <td>none</td>\n",
       "      <td>3 years</td>\n",
       "      <td>26 to 30</td>\n",
       "      <td>No</td>\n",
       "      <td>No</td>\n",
       "      <td>External</td>\n",
       "      <td>none</td>\n",
       "      <td>1 year</td>\n",
       "      <td>3 to 4</td>\n",
       "      <td>1994</td>\n",
       "      <td>Liability</td>\n",
       "    </tr>\n",
       "    <tr>\n",
       "      <th>1</th>\n",
       "      <td>Jan</td>\n",
       "      <td>3</td>\n",
       "      <td>Wednesday</td>\n",
       "      <td>Honda</td>\n",
       "      <td>Urban</td>\n",
       "      <td>Monday</td>\n",
       "      <td>Jan</td>\n",
       "      <td>4</td>\n",
       "      <td>Male</td>\n",
       "      <td>Single</td>\n",
       "      <td>34</td>\n",
       "      <td>Policy Holder</td>\n",
       "      <td>Sport - Collision</td>\n",
       "      <td>Sport</td>\n",
       "      <td>more than 69000</td>\n",
       "      <td>0</td>\n",
       "      <td>2</td>\n",
       "      <td>15</td>\n",
       "      <td>400</td>\n",
       "      <td>4</td>\n",
       "      <td>more than 30</td>\n",
       "      <td>more than 30</td>\n",
       "      <td>none</td>\n",
       "      <td>6 years</td>\n",
       "      <td>31 to 35</td>\n",
       "      <td>Yes</td>\n",
       "      <td>No</td>\n",
       "      <td>External</td>\n",
       "      <td>none</td>\n",
       "      <td>no change</td>\n",
       "      <td>1 vehicle</td>\n",
       "      <td>1994</td>\n",
       "      <td>Collision</td>\n",
       "    </tr>\n",
       "    <tr>\n",
       "      <th>2</th>\n",
       "      <td>Oct</td>\n",
       "      <td>5</td>\n",
       "      <td>Friday</td>\n",
       "      <td>Honda</td>\n",
       "      <td>Urban</td>\n",
       "      <td>Thursday</td>\n",
       "      <td>Nov</td>\n",
       "      <td>2</td>\n",
       "      <td>Male</td>\n",
       "      <td>Married</td>\n",
       "      <td>47</td>\n",
       "      <td>Policy Holder</td>\n",
       "      <td>Sport - Collision</td>\n",
       "      <td>Sport</td>\n",
       "      <td>more than 69000</td>\n",
       "      <td>0</td>\n",
       "      <td>3</td>\n",
       "      <td>7</td>\n",
       "      <td>400</td>\n",
       "      <td>3</td>\n",
       "      <td>more than 30</td>\n",
       "      <td>more than 30</td>\n",
       "      <td>1</td>\n",
       "      <td>7 years</td>\n",
       "      <td>41 to 50</td>\n",
       "      <td>No</td>\n",
       "      <td>No</td>\n",
       "      <td>External</td>\n",
       "      <td>none</td>\n",
       "      <td>no change</td>\n",
       "      <td>1 vehicle</td>\n",
       "      <td>1994</td>\n",
       "      <td>Collision</td>\n",
       "    </tr>\n",
       "    <tr>\n",
       "      <th>3</th>\n",
       "      <td>Jun</td>\n",
       "      <td>2</td>\n",
       "      <td>Saturday</td>\n",
       "      <td>Toyota</td>\n",
       "      <td>Rural</td>\n",
       "      <td>Friday</td>\n",
       "      <td>Jul</td>\n",
       "      <td>1</td>\n",
       "      <td>Male</td>\n",
       "      <td>Married</td>\n",
       "      <td>65</td>\n",
       "      <td>Third Party</td>\n",
       "      <td>Sedan - Liability</td>\n",
       "      <td>Sport</td>\n",
       "      <td>20000 to 29000</td>\n",
       "      <td>0</td>\n",
       "      <td>4</td>\n",
       "      <td>4</td>\n",
       "      <td>400</td>\n",
       "      <td>2</td>\n",
       "      <td>more than 30</td>\n",
       "      <td>more than 30</td>\n",
       "      <td>1</td>\n",
       "      <td>more than 7</td>\n",
       "      <td>51 to 65</td>\n",
       "      <td>Yes</td>\n",
       "      <td>No</td>\n",
       "      <td>External</td>\n",
       "      <td>more than 5</td>\n",
       "      <td>no change</td>\n",
       "      <td>1 vehicle</td>\n",
       "      <td>1994</td>\n",
       "      <td>Liability</td>\n",
       "    </tr>\n",
       "    <tr>\n",
       "      <th>4</th>\n",
       "      <td>Jan</td>\n",
       "      <td>5</td>\n",
       "      <td>Monday</td>\n",
       "      <td>Honda</td>\n",
       "      <td>Urban</td>\n",
       "      <td>Tuesday</td>\n",
       "      <td>Feb</td>\n",
       "      <td>2</td>\n",
       "      <td>Female</td>\n",
       "      <td>Single</td>\n",
       "      <td>27</td>\n",
       "      <td>Third Party</td>\n",
       "      <td>Sport - Collision</td>\n",
       "      <td>Sport</td>\n",
       "      <td>more than 69000</td>\n",
       "      <td>0</td>\n",
       "      <td>5</td>\n",
       "      <td>3</td>\n",
       "      <td>400</td>\n",
       "      <td>1</td>\n",
       "      <td>more than 30</td>\n",
       "      <td>more than 30</td>\n",
       "      <td>none</td>\n",
       "      <td>5 years</td>\n",
       "      <td>31 to 35</td>\n",
       "      <td>No</td>\n",
       "      <td>No</td>\n",
       "      <td>External</td>\n",
       "      <td>none</td>\n",
       "      <td>no change</td>\n",
       "      <td>1 vehicle</td>\n",
       "      <td>1994</td>\n",
       "      <td>Collision</td>\n",
       "    </tr>\n",
       "  </tbody>\n",
       "</table>\n",
       "</div>"
      ],
      "text/plain": [
       "  Month  WeekOfMonth  DayOfWeek    Make AccidentArea DayOfWeekClaimed  \\\n",
       "0   Dec            5  Wednesday   Honda        Urban          Tuesday   \n",
       "1   Jan            3  Wednesday   Honda        Urban           Monday   \n",
       "2   Oct            5     Friday   Honda        Urban         Thursday   \n",
       "3   Jun            2   Saturday  Toyota        Rural           Friday   \n",
       "4   Jan            5     Monday   Honda        Urban          Tuesday   \n",
       "\n",
       "  MonthClaimed  WeekOfMonthClaimed     Sex MaritalStatus  Age          Fault  \\\n",
       "0          Jan                   1  Female        Single   21  Policy Holder   \n",
       "1          Jan                   4    Male        Single   34  Policy Holder   \n",
       "2          Nov                   2    Male       Married   47  Policy Holder   \n",
       "3          Jul                   1    Male       Married   65    Third Party   \n",
       "4          Feb                   2  Female        Single   27    Third Party   \n",
       "\n",
       "          PolicyType VehicleCategory     VehiclePrice  FraudFound_P  \\\n",
       "0  Sport - Liability           Sport  more than 69000             0   \n",
       "1  Sport - Collision           Sport  more than 69000             0   \n",
       "2  Sport - Collision           Sport  more than 69000             0   \n",
       "3  Sedan - Liability           Sport   20000 to 29000             0   \n",
       "4  Sport - Collision           Sport  more than 69000             0   \n",
       "\n",
       "   PolicyNumber  RepNumber  Deductible  DriverRating Days_Policy_Accident  \\\n",
       "0             1         12         300             1         more than 30   \n",
       "1             2         15         400             4         more than 30   \n",
       "2             3          7         400             3         more than 30   \n",
       "3             4          4         400             2         more than 30   \n",
       "4             5          3         400             1         more than 30   \n",
       "\n",
       "  Days_Policy_Claim PastNumberOfClaims AgeOfVehicle AgeOfPolicyHolder  \\\n",
       "0      more than 30               none      3 years          26 to 30   \n",
       "1      more than 30               none      6 years          31 to 35   \n",
       "2      more than 30                  1      7 years          41 to 50   \n",
       "3      more than 30                  1  more than 7          51 to 65   \n",
       "4      more than 30               none      5 years          31 to 35   \n",
       "\n",
       "  PoliceReportFiled WitnessPresent AgentType NumberOfSuppliments  \\\n",
       "0                No             No  External                none   \n",
       "1               Yes             No  External                none   \n",
       "2                No             No  External                none   \n",
       "3               Yes             No  External         more than 5   \n",
       "4                No             No  External                none   \n",
       "\n",
       "  AddressChange_Claim NumberOfCars  Year BasePolicy  \n",
       "0              1 year       3 to 4  1994  Liability  \n",
       "1           no change    1 vehicle  1994  Collision  \n",
       "2           no change    1 vehicle  1994  Collision  \n",
       "3           no change    1 vehicle  1994  Liability  \n",
       "4           no change    1 vehicle  1994  Collision  "
      ]
     },
     "execution_count": 3,
     "metadata": {},
     "output_type": "execute_result"
    }
   ],
   "source": [
    "raw_data.head()"
   ]
  },
  {
   "cell_type": "code",
   "execution_count": 4,
   "id": "5af8b67b-4e11-4a9d-9391-7ff64c21d42f",
   "metadata": {},
   "outputs": [
    {
     "data": {
      "image/png": "[encoded data removed]",
      "text/plain": [
       "<Figure size 2500x1000 with 2 Axes>"
      ]
     },
     "metadata": {},
     "output_type": "display_data"
    }
   ],
   "source": [
    "msno.matrix(raw_data);"
   ]
  },
  {
   "cell_type": "markdown",
   "id": "e27ecd1f-699f-4938-a82d-a1988c81a386",
   "metadata": {},
   "source": [
    "**Point 01**: There is no missing value."
   ]
  },
  {
   "cell_type": "markdown",
   "id": "e30cea33-875c-4c4d-9082-909f76be6391",
   "metadata": {},
   "source": [
    "### 3) Characteristic of Dataset"
   ]
  },
  {
   "cell_type": "code",
   "execution_count": 5,
   "id": "2c882054-8910-4582-8d7b-b1b7adf21140",
   "metadata": {},
   "outputs": [
    {
     "data": {
      "text/html": [
       "<div>\n",
       "<style scoped>\n",
       "    .dataframe tbody tr th:only-of-type {\n",
       "        vertical-align: middle;\n",
       "    }\n",
       "\n",
       "    .dataframe tbody tr th {\n",
       "        vertical-align: top;\n",
       "    }\n",
       "\n",
       "    .dataframe thead th {\n",
       "        text-align: right;\n",
       "    }\n",
       "</style>\n",
       "<table border=\"1\" class=\"dataframe\">\n",
       "  <thead>\n",
       "    <tr style=\"text-align: right;\">\n",
       "      <th></th>\n",
       "      <th>DataType</th>\n",
       "      <th>Nunique</th>\n",
       "      <th>Unique</th>\n",
       "      <th>Max</th>\n",
       "      <th>Mean</th>\n",
       "      <th>Median</th>\n",
       "      <th>Mode</th>\n",
       "      <th>Range</th>\n",
       "      <th>Variance</th>\n",
       "      <th>Std</th>\n",
       "      <th>Skewness</th>\n",
       "      <th>Kurtosis</th>\n",
       "    </tr>\n",
       "  </thead>\n",
       "  <tbody>\n",
       "    <tr>\n",
       "      <th>FraudFound_P</th>\n",
       "      <td>int64</td>\n",
       "      <td>2</td>\n",
       "      <td>[0, 1]</td>\n",
       "      <td>1</td>\n",
       "      <td>0.06</td>\n",
       "      <td>0.0</td>\n",
       "      <td>0</td>\n",
       "      <td>1</td>\n",
       "      <td>0.056278</td>\n",
       "      <td>0.23723</td>\n",
       "      <td>3.71</td>\n",
       "      <td>11.77</td>\n",
       "    </tr>\n",
       "    <tr>\n",
       "      <th>Year</th>\n",
       "      <td>int64</td>\n",
       "      <td>3</td>\n",
       "      <td>[1994, 1995, 1996]</td>\n",
       "      <td>1996</td>\n",
       "      <td>1994.87</td>\n",
       "      <td>1995.0</td>\n",
       "      <td>1994</td>\n",
       "      <td>2</td>\n",
       "      <td>0.645312</td>\n",
       "      <td>0.803313</td>\n",
       "      <td>0.25</td>\n",
       "      <td>-1.41</td>\n",
       "    </tr>\n",
       "    <tr>\n",
       "      <th>Deductible</th>\n",
       "      <td>int64</td>\n",
       "      <td>4</td>\n",
       "      <td>[300, 400, 500, 700]</td>\n",
       "      <td>700</td>\n",
       "      <td>407.7</td>\n",
       "      <td>400.0</td>\n",
       "      <td>400</td>\n",
       "      <td>400</td>\n",
       "      <td>1931.690221</td>\n",
       "      <td>43.950998</td>\n",
       "      <td>6.08</td>\n",
       "      <td>36.82</td>\n",
       "    </tr>\n",
       "    <tr>\n",
       "      <th>DriverRating</th>\n",
       "      <td>int64</td>\n",
       "      <td>4</td>\n",
       "      <td>[1, 4, 3, 2]</td>\n",
       "      <td>4</td>\n",
       "      <td>2.49</td>\n",
       "      <td>2.0</td>\n",
       "      <td>1</td>\n",
       "      <td>3</td>\n",
       "      <td>1.253175</td>\n",
       "      <td>1.119453</td>\n",
       "      <td>0.01</td>\n",
       "      <td>-1.36</td>\n",
       "    </tr>\n",
       "    <tr>\n",
       "      <th>WeekOfMonth</th>\n",
       "      <td>int64</td>\n",
       "      <td>5</td>\n",
       "      <td>[5, 3, 2, 4, 1]</td>\n",
       "      <td>5</td>\n",
       "      <td>2.79</td>\n",
       "      <td>3.0</td>\n",
       "      <td>3</td>\n",
       "      <td>4</td>\n",
       "      <td>1.657876</td>\n",
       "      <td>1.287585</td>\n",
       "      <td>0.12</td>\n",
       "      <td>-1.1</td>\n",
       "    </tr>\n",
       "    <tr>\n",
       "      <th>WeekOfMonthClaimed</th>\n",
       "      <td>int64</td>\n",
       "      <td>5</td>\n",
       "      <td>[1, 4, 2, 3, 5]</td>\n",
       "      <td>5</td>\n",
       "      <td>2.69</td>\n",
       "      <td>3.0</td>\n",
       "      <td>2</td>\n",
       "      <td>4</td>\n",
       "      <td>1.585371</td>\n",
       "      <td>1.259115</td>\n",
       "      <td>0.16</td>\n",
       "      <td>-1.09</td>\n",
       "    </tr>\n",
       "    <tr>\n",
       "      <th>RepNumber</th>\n",
       "      <td>int64</td>\n",
       "      <td>16</td>\n",
       "      <td>[12, 15, 7, 4, 3, 14, 1, 13, 11, 16, 6, 2, 8, ...</td>\n",
       "      <td>16</td>\n",
       "      <td>8.48</td>\n",
       "      <td>8.0</td>\n",
       "      <td>7</td>\n",
       "      <td>15</td>\n",
       "      <td>21.159523</td>\n",
       "      <td>4.599948</td>\n",
       "      <td>0.01</td>\n",
       "      <td>-1.19</td>\n",
       "    </tr>\n",
       "    <tr>\n",
       "      <th>Age</th>\n",
       "      <td>int64</td>\n",
       "      <td>66</td>\n",
       "      <td>[21, 34, 47, 65, 27, 20, 36, 0, 30, 42, 71, 52...</td>\n",
       "      <td>80</td>\n",
       "      <td>39.86</td>\n",
       "      <td>38.0</td>\n",
       "      <td>30</td>\n",
       "      <td>80</td>\n",
       "      <td>182.044228</td>\n",
       "      <td>13.492377</td>\n",
       "      <td>0.15</td>\n",
       "      <td>0.8</td>\n",
       "    </tr>\n",
       "    <tr>\n",
       "      <th>PolicyNumber</th>\n",
       "      <td>int64</td>\n",
       "      <td>15420</td>\n",
       "      <td>[1, 2, 3, 4, 5, 6, 7, 8, 9, 10, 11, 12, 13, 14...</td>\n",
       "      <td>15420</td>\n",
       "      <td>7710.5</td>\n",
       "      <td>7710.5</td>\n",
       "      <td>1</td>\n",
       "      <td>15419</td>\n",
       "      <td>19815985.0</td>\n",
       "      <td>4451.514911</td>\n",
       "      <td>0.0</td>\n",
       "      <td>-1.2</td>\n",
       "    </tr>\n",
       "    <tr>\n",
       "      <th>AccidentArea</th>\n",
       "      <td>object</td>\n",
       "      <td>2</td>\n",
       "      <td>[Urban, Rural]</td>\n",
       "      <td>-</td>\n",
       "      <td>-</td>\n",
       "      <td>-</td>\n",
       "      <td>Urban</td>\n",
       "      <td>-</td>\n",
       "      <td>-</td>\n",
       "      <td>-</td>\n",
       "      <td>-</td>\n",
       "      <td>-</td>\n",
       "    </tr>\n",
       "    <tr>\n",
       "      <th>Sex</th>\n",
       "      <td>object</td>\n",
       "      <td>2</td>\n",
       "      <td>[Female, Male]</td>\n",
       "      <td>-</td>\n",
       "      <td>-</td>\n",
       "      <td>-</td>\n",
       "      <td>Male</td>\n",
       "      <td>-</td>\n",
       "      <td>-</td>\n",
       "      <td>-</td>\n",
       "      <td>-</td>\n",
       "      <td>-</td>\n",
       "    </tr>\n",
       "    <tr>\n",
       "      <th>Fault</th>\n",
       "      <td>object</td>\n",
       "      <td>2</td>\n",
       "      <td>[Policy Holder, Third Party]</td>\n",
       "      <td>-</td>\n",
       "      <td>-</td>\n",
       "      <td>-</td>\n",
       "      <td>Policy Holder</td>\n",
       "      <td>-</td>\n",
       "      <td>-</td>\n",
       "      <td>-</td>\n",
       "      <td>-</td>\n",
       "      <td>-</td>\n",
       "    </tr>\n",
       "    <tr>\n",
       "      <th>PoliceReportFiled</th>\n",
       "      <td>object</td>\n",
       "      <td>2</td>\n",
       "      <td>[No, Yes]</td>\n",
       "      <td>-</td>\n",
       "      <td>-</td>\n",
       "      <td>-</td>\n",
       "      <td>No</td>\n",
       "      <td>-</td>\n",
       "      <td>-</td>\n",
       "      <td>-</td>\n",
       "      <td>-</td>\n",
       "      <td>-</td>\n",
       "    </tr>\n",
       "    <tr>\n",
       "      <th>WitnessPresent</th>\n",
       "      <td>object</td>\n",
       "      <td>2</td>\n",
       "      <td>[No, Yes]</td>\n",
       "      <td>-</td>\n",
       "      <td>-</td>\n",
       "      <td>-</td>\n",
       "      <td>No</td>\n",
       "      <td>-</td>\n",
       "      <td>-</td>\n",
       "      <td>-</td>\n",
       "      <td>-</td>\n",
       "      <td>-</td>\n",
       "    </tr>\n",
       "    <tr>\n",
       "      <th>AgentType</th>\n",
       "      <td>object</td>\n",
       "      <td>2</td>\n",
       "      <td>[External, Internal]</td>\n",
       "      <td>-</td>\n",
       "      <td>-</td>\n",
       "      <td>-</td>\n",
       "      <td>External</td>\n",
       "      <td>-</td>\n",
       "      <td>-</td>\n",
       "      <td>-</td>\n",
       "      <td>-</td>\n",
       "      <td>-</td>\n",
       "    </tr>\n",
       "    <tr>\n",
       "      <th>VehicleCategory</th>\n",
       "      <td>object</td>\n",
       "      <td>3</td>\n",
       "      <td>[Sport, Utility, Sedan]</td>\n",
       "      <td>-</td>\n",
       "      <td>-</td>\n",
       "      <td>-</td>\n",
       "      <td>Sedan</td>\n",
       "      <td>-</td>\n",
       "      <td>-</td>\n",
       "      <td>-</td>\n",
       "      <td>-</td>\n",
       "      <td>-</td>\n",
       "    </tr>\n",
       "    <tr>\n",
       "      <th>BasePolicy</th>\n",
       "      <td>object</td>\n",
       "      <td>3</td>\n",
       "      <td>[Liability, Collision, All Perils]</td>\n",
       "      <td>-</td>\n",
       "      <td>-</td>\n",
       "      <td>-</td>\n",
       "      <td>Collision</td>\n",
       "      <td>-</td>\n",
       "      <td>-</td>\n",
       "      <td>-</td>\n",
       "      <td>-</td>\n",
       "      <td>-</td>\n",
       "    </tr>\n",
       "    <tr>\n",
       "      <th>MaritalStatus</th>\n",
       "      <td>object</td>\n",
       "      <td>4</td>\n",
       "      <td>[Single, Married, Widow, Divorced]</td>\n",
       "      <td>-</td>\n",
       "      <td>-</td>\n",
       "      <td>-</td>\n",
       "      <td>Married</td>\n",
       "      <td>-</td>\n",
       "      <td>-</td>\n",
       "      <td>-</td>\n",
       "      <td>-</td>\n",
       "      <td>-</td>\n",
       "    </tr>\n",
       "    <tr>\n",
       "      <th>Days_Policy_Claim</th>\n",
       "      <td>object</td>\n",
       "      <td>4</td>\n",
       "      <td>[more than 30, 15 to 30, 8 to 15, none]</td>\n",
       "      <td>-</td>\n",
       "      <td>-</td>\n",
       "      <td>-</td>\n",
       "      <td>more than 30</td>\n",
       "      <td>-</td>\n",
       "      <td>-</td>\n",
       "      <td>-</td>\n",
       "      <td>-</td>\n",
       "      <td>-</td>\n",
       "    </tr>\n",
       "    <tr>\n",
       "      <th>PastNumberOfClaims</th>\n",
       "      <td>object</td>\n",
       "      <td>4</td>\n",
       "      <td>[none, 1, 2 to 4, more than 4]</td>\n",
       "      <td>-</td>\n",
       "      <td>-</td>\n",
       "      <td>-</td>\n",
       "      <td>2 to 4</td>\n",
       "      <td>-</td>\n",
       "      <td>-</td>\n",
       "      <td>-</td>\n",
       "      <td>-</td>\n",
       "      <td>-</td>\n",
       "    </tr>\n",
       "    <tr>\n",
       "      <th>NumberOfSuppliments</th>\n",
       "      <td>object</td>\n",
       "      <td>4</td>\n",
       "      <td>[none, more than 5, 3 to 5, 1 to 2]</td>\n",
       "      <td>-</td>\n",
       "      <td>-</td>\n",
       "      <td>-</td>\n",
       "      <td>none</td>\n",
       "      <td>-</td>\n",
       "      <td>-</td>\n",
       "      <td>-</td>\n",
       "      <td>-</td>\n",
       "      <td>-</td>\n",
       "    </tr>\n",
       "    <tr>\n",
       "      <th>Days_Policy_Accident</th>\n",
       "      <td>object</td>\n",
       "      <td>5</td>\n",
       "      <td>[more than 30, 15 to 30, none, 1 to 7, 8 to 15]</td>\n",
       "      <td>-</td>\n",
       "      <td>-</td>\n",
       "      <td>-</td>\n",
       "      <td>more than 30</td>\n",
       "      <td>-</td>\n",
       "      <td>-</td>\n",
       "      <td>-</td>\n",
       "      <td>-</td>\n",
       "      <td>-</td>\n",
       "    </tr>\n",
       "    <tr>\n",
       "      <th>AddressChange_Claim</th>\n",
       "      <td>object</td>\n",
       "      <td>5</td>\n",
       "      <td>[1 year, no change, 4 to 8 years, 2 to 3 years...</td>\n",
       "      <td>-</td>\n",
       "      <td>-</td>\n",
       "      <td>-</td>\n",
       "      <td>no change</td>\n",
       "      <td>-</td>\n",
       "      <td>-</td>\n",
       "      <td>-</td>\n",
       "      <td>-</td>\n",
       "      <td>-</td>\n",
       "    </tr>\n",
       "    <tr>\n",
       "      <th>NumberOfCars</th>\n",
       "      <td>object</td>\n",
       "      <td>5</td>\n",
       "      <td>[3 to 4, 1 vehicle, 2 vehicles, 5 to 8, more t...</td>\n",
       "      <td>-</td>\n",
       "      <td>-</td>\n",
       "      <td>-</td>\n",
       "      <td>1 vehicle</td>\n",
       "      <td>-</td>\n",
       "      <td>-</td>\n",
       "      <td>-</td>\n",
       "      <td>-</td>\n",
       "      <td>-</td>\n",
       "    </tr>\n",
       "    <tr>\n",
       "      <th>VehiclePrice</th>\n",
       "      <td>object</td>\n",
       "      <td>6</td>\n",
       "      <td>[more than 69000, 20000 to 29000, 30000 to 390...</td>\n",
       "      <td>-</td>\n",
       "      <td>-</td>\n",
       "      <td>-</td>\n",
       "      <td>20000 to 29000</td>\n",
       "      <td>-</td>\n",
       "      <td>-</td>\n",
       "      <td>-</td>\n",
       "      <td>-</td>\n",
       "      <td>-</td>\n",
       "    </tr>\n",
       "    <tr>\n",
       "      <th>DayOfWeek</th>\n",
       "      <td>object</td>\n",
       "      <td>7</td>\n",
       "      <td>[Wednesday, Friday, Saturday, Monday, Tuesday,...</td>\n",
       "      <td>-</td>\n",
       "      <td>-</td>\n",
       "      <td>-</td>\n",
       "      <td>Monday</td>\n",
       "      <td>-</td>\n",
       "      <td>-</td>\n",
       "      <td>-</td>\n",
       "      <td>-</td>\n",
       "      <td>-</td>\n",
       "    </tr>\n",
       "    <tr>\n",
       "      <th>DayOfWeekClaimed</th>\n",
       "      <td>object</td>\n",
       "      <td>8</td>\n",
       "      <td>[Tuesday, Monday, Thursday, Friday, Wednesday,...</td>\n",
       "      <td>-</td>\n",
       "      <td>-</td>\n",
       "      <td>-</td>\n",
       "      <td>Monday</td>\n",
       "      <td>-</td>\n",
       "      <td>-</td>\n",
       "      <td>-</td>\n",
       "      <td>-</td>\n",
       "      <td>-</td>\n",
       "    </tr>\n",
       "    <tr>\n",
       "      <th>AgeOfVehicle</th>\n",
       "      <td>object</td>\n",
       "      <td>8</td>\n",
       "      <td>[3 years, 6 years, 7 years, more than 7, 5 yea...</td>\n",
       "      <td>-</td>\n",
       "      <td>-</td>\n",
       "      <td>-</td>\n",
       "      <td>7 years</td>\n",
       "      <td>-</td>\n",
       "      <td>-</td>\n",
       "      <td>-</td>\n",
       "      <td>-</td>\n",
       "      <td>-</td>\n",
       "    </tr>\n",
       "    <tr>\n",
       "      <th>PolicyType</th>\n",
       "      <td>object</td>\n",
       "      <td>9</td>\n",
       "      <td>[Sport - Liability, Sport - Collision, Sedan -...</td>\n",
       "      <td>-</td>\n",
       "      <td>-</td>\n",
       "      <td>-</td>\n",
       "      <td>Sedan - Collision</td>\n",
       "      <td>-</td>\n",
       "      <td>-</td>\n",
       "      <td>-</td>\n",
       "      <td>-</td>\n",
       "      <td>-</td>\n",
       "    </tr>\n",
       "    <tr>\n",
       "      <th>AgeOfPolicyHolder</th>\n",
       "      <td>object</td>\n",
       "      <td>9</td>\n",
       "      <td>[26 to 30, 31 to 35, 41 to 50, 51 to 65, 21 to...</td>\n",
       "      <td>-</td>\n",
       "      <td>-</td>\n",
       "      <td>-</td>\n",
       "      <td>31 to 35</td>\n",
       "      <td>-</td>\n",
       "      <td>-</td>\n",
       "      <td>-</td>\n",
       "      <td>-</td>\n",
       "      <td>-</td>\n",
       "    </tr>\n",
       "    <tr>\n",
       "      <th>Month</th>\n",
       "      <td>object</td>\n",
       "      <td>12</td>\n",
       "      <td>[Dec, Jan, Oct, Jun, Feb, Nov, Apr, Mar, Aug, ...</td>\n",
       "      <td>-</td>\n",
       "      <td>-</td>\n",
       "      <td>-</td>\n",
       "      <td>Jan</td>\n",
       "      <td>-</td>\n",
       "      <td>-</td>\n",
       "      <td>-</td>\n",
       "      <td>-</td>\n",
       "      <td>-</td>\n",
       "    </tr>\n",
       "    <tr>\n",
       "      <th>MonthClaimed</th>\n",
       "      <td>object</td>\n",
       "      <td>13</td>\n",
       "      <td>[Jan, Nov, Jul, Feb, Mar, Dec, Apr, Aug, May, ...</td>\n",
       "      <td>-</td>\n",
       "      <td>-</td>\n",
       "      <td>-</td>\n",
       "      <td>Jan</td>\n",
       "      <td>-</td>\n",
       "      <td>-</td>\n",
       "      <td>-</td>\n",
       "      <td>-</td>\n",
       "      <td>-</td>\n",
       "    </tr>\n",
       "    <tr>\n",
       "      <th>Make</th>\n",
       "      <td>object</td>\n",
       "      <td>19</td>\n",
       "      <td>[Honda, Toyota, Ford, Mazda, Chevrolet, Pontia...</td>\n",
       "      <td>-</td>\n",
       "      <td>-</td>\n",
       "      <td>-</td>\n",
       "      <td>Pontiac</td>\n",
       "      <td>-</td>\n",
       "      <td>-</td>\n",
       "      <td>-</td>\n",
       "      <td>-</td>\n",
       "      <td>-</td>\n",
       "    </tr>\n",
       "  </tbody>\n",
       "</table>\n",
       "</div>"
      ],
      "text/plain": [
       "                     DataType  Nunique  \\\n",
       "FraudFound_P            int64        2   \n",
       "Year                    int64        3   \n",
       "Deductible              int64        4   \n",
       "DriverRating            int64        4   \n",
       "WeekOfMonth             int64        5   \n",
       "WeekOfMonthClaimed      int64        5   \n",
       "RepNumber               int64       16   \n",
       "Age                     int64       66   \n",
       "PolicyNumber            int64    15420   \n",
       "AccidentArea           object        2   \n",
       "Sex                    object        2   \n",
       "Fault                  object        2   \n",
       "PoliceReportFiled      object        2   \n",
       "WitnessPresent         object        2   \n",
       "AgentType              object        2   \n",
       "VehicleCategory        object        3   \n",
       "BasePolicy             object        3   \n",
       "MaritalStatus          object        4   \n",
       "Days_Policy_Claim      object        4   \n",
       "PastNumberOfClaims     object        4   \n",
       "NumberOfSuppliments    object        4   \n",
       "Days_Policy_Accident   object        5   \n",
       "AddressChange_Claim    object        5   \n",
       "NumberOfCars           object        5   \n",
       "VehiclePrice           object        6   \n",
       "DayOfWeek              object        7   \n",
       "DayOfWeekClaimed       object        8   \n",
       "AgeOfVehicle           object        8   \n",
       "PolicyType             object        9   \n",
       "AgeOfPolicyHolder      object        9   \n",
       "Month                  object       12   \n",
       "MonthClaimed           object       13   \n",
       "Make                   object       19   \n",
       "\n",
       "                                                                 Unique  \\\n",
       "FraudFound_P                                                     [0, 1]   \n",
       "Year                                                 [1994, 1995, 1996]   \n",
       "Deductible                                         [300, 400, 500, 700]   \n",
       "DriverRating                                               [1, 4, 3, 2]   \n",
       "WeekOfMonth                                             [5, 3, 2, 4, 1]   \n",
       "WeekOfMonthClaimed                                      [1, 4, 2, 3, 5]   \n",
       "RepNumber             [12, 15, 7, 4, 3, 14, 1, 13, 11, 16, 6, 2, 8, ...   \n",
       "Age                   [21, 34, 47, 65, 27, 20, 36, 0, 30, 42, 71, 52...   \n",
       "PolicyNumber          [1, 2, 3, 4, 5, 6, 7, 8, 9, 10, 11, 12, 13, 14...   \n",
       "AccidentArea                                             [Urban, Rural]   \n",
       "Sex                                                      [Female, Male]   \n",
       "Fault                                      [Policy Holder, Third Party]   \n",
       "PoliceReportFiled                                             [No, Yes]   \n",
       "WitnessPresent                                                [No, Yes]   \n",
       "AgentType                                          [External, Internal]   \n",
       "VehicleCategory                                 [Sport, Utility, Sedan]   \n",
       "BasePolicy                           [Liability, Collision, All Perils]   \n",
       "MaritalStatus                        [Single, Married, Widow, Divorced]   \n",
       "Days_Policy_Claim               [more than 30, 15 to 30, 8 to 15, none]   \n",
       "PastNumberOfClaims                       [none, 1, 2 to 4, more than 4]   \n",
       "NumberOfSuppliments                 [none, more than 5, 3 to 5, 1 to 2]   \n",
       "Days_Policy_Accident    [more than 30, 15 to 30, none, 1 to 7, 8 to 15]   \n",
       "AddressChange_Claim   [1 year, no change, 4 to 8 years, 2 to 3 years...   \n",
       "NumberOfCars          [3 to 4, 1 vehicle, 2 vehicles, 5 to 8, more t...   \n",
       "VehiclePrice          [more than 69000, 20000 to 29000, 30000 to 390...   \n",
       "DayOfWeek             [Wednesday, Friday, Saturday, Monday, Tuesday,...   \n",
       "DayOfWeekClaimed      [Tuesday, Monday, Thursday, Friday, Wednesday,...   \n",
       "AgeOfVehicle          [3 years, 6 years, 7 years, more than 7, 5 yea...   \n",
       "PolicyType            [Sport - Liability, Sport - Collision, Sedan -...   \n",
       "AgeOfPolicyHolder     [26 to 30, 31 to 35, 41 to 50, 51 to 65, 21 to...   \n",
       "Month                 [Dec, Jan, Oct, Jun, Feb, Nov, Apr, Mar, Aug, ...   \n",
       "MonthClaimed          [Jan, Nov, Jul, Feb, Mar, Dec, Apr, Aug, May, ...   \n",
       "Make                  [Honda, Toyota, Ford, Mazda, Chevrolet, Pontia...   \n",
       "\n",
       "                        Max     Mean  Median               Mode  Range  \\\n",
       "FraudFound_P              1     0.06     0.0                  0      1   \n",
       "Year                   1996  1994.87  1995.0               1994      2   \n",
       "Deductible              700    407.7   400.0                400    400   \n",
       "DriverRating              4     2.49     2.0                  1      3   \n",
       "WeekOfMonth               5     2.79     3.0                  3      4   \n",
       "WeekOfMonthClaimed        5     2.69     3.0                  2      4   \n",
       "RepNumber                16     8.48     8.0                  7     15   \n",
       "Age                      80    39.86    38.0                 30     80   \n",
       "PolicyNumber          15420   7710.5  7710.5                  1  15419   \n",
       "AccidentArea              -        -       -              Urban      -   \n",
       "Sex                       -        -       -               Male      -   \n",
       "Fault                     -        -       -      Policy Holder      -   \n",
       "PoliceReportFiled         -        -       -                 No      -   \n",
       "WitnessPresent            -        -       -                 No      -   \n",
       "AgentType                 -        -       -           External      -   \n",
       "VehicleCategory           -        -       -              Sedan      -   \n",
       "BasePolicy                -        -       -          Collision      -   \n",
       "MaritalStatus             -        -       -            Married      -   \n",
       "Days_Policy_Claim         -        -       -       more than 30      -   \n",
       "PastNumberOfClaims        -        -       -             2 to 4      -   \n",
       "NumberOfSuppliments       -        -       -               none      -   \n",
       "Days_Policy_Accident      -        -       -       more than 30      -   \n",
       "AddressChange_Claim       -        -       -          no change      -   \n",
       "NumberOfCars              -        -       -          1 vehicle      -   \n",
       "VehiclePrice              -        -       -     20000 to 29000      -   \n",
       "DayOfWeek                 -        -       -             Monday      -   \n",
       "DayOfWeekClaimed          -        -       -             Monday      -   \n",
       "AgeOfVehicle              -        -       -            7 years      -   \n",
       "PolicyType                -        -       -  Sedan - Collision      -   \n",
       "AgeOfPolicyHolder         -        -       -           31 to 35      -   \n",
       "Month                     -        -       -                Jan      -   \n",
       "MonthClaimed              -        -       -                Jan      -   \n",
       "Make                      -        -       -            Pontiac      -   \n",
       "\n",
       "                         Variance          Std Skewness Kurtosis  \n",
       "FraudFound_P             0.056278      0.23723     3.71    11.77  \n",
       "Year                     0.645312     0.803313     0.25    -1.41  \n",
       "Deductible            1931.690221    43.950998     6.08    36.82  \n",
       "DriverRating             1.253175     1.119453     0.01    -1.36  \n",
       "WeekOfMonth              1.657876     1.287585     0.12     -1.1  \n",
       "WeekOfMonthClaimed       1.585371     1.259115     0.16    -1.09  \n",
       "RepNumber               21.159523     4.599948     0.01    -1.19  \n",
       "Age                    182.044228    13.492377     0.15      0.8  \n",
       "PolicyNumber           19815985.0  4451.514911      0.0     -1.2  \n",
       "AccidentArea                    -            -        -        -  \n",
       "Sex                             -            -        -        -  \n",
       "Fault                           -            -        -        -  \n",
       "PoliceReportFiled               -            -        -        -  \n",
       "WitnessPresent                  -            -        -        -  \n",
       "AgentType                       -            -        -        -  \n",
       "VehicleCategory                 -            -        -        -  \n",
       "BasePolicy                      -            -        -        -  \n",
       "MaritalStatus                   -            -        -        -  \n",
       "Days_Policy_Claim               -            -        -        -  \n",
       "PastNumberOfClaims              -            -        -        -  \n",
       "NumberOfSuppliments             -            -        -        -  \n",
       "Days_Policy_Accident            -            -        -        -  \n",
       "AddressChange_Claim             -            -        -        -  \n",
       "NumberOfCars                    -            -        -        -  \n",
       "VehiclePrice                    -            -        -        -  \n",
       "DayOfWeek                       -            -        -        -  \n",
       "DayOfWeekClaimed                -            -        -        -  \n",
       "AgeOfVehicle                    -            -        -        -  \n",
       "PolicyType                      -            -        -        -  \n",
       "AgeOfPolicyHolder               -            -        -        -  \n",
       "Month                           -            -        -        -  \n",
       "MonthClaimed                    -            -        -        -  \n",
       "Make                            -            -        -        -  "
      ]
     },
     "execution_count": 5,
     "metadata": {},
     "output_type": "execute_result"
    }
   ],
   "source": [
    "def summarize(DataFrame):\n",
    "    summary = pd.DataFrame()\n",
    "    summary['DataType'] = DataFrame.dtypes\n",
    "    summary['Nunique'] = DataFrame.nunique()\n",
    "    summary['Unique'] = DataFrame.apply(lambda x: x.unique().tolist())\n",
    "    summary['Max'] = DataFrame.apply(lambda x: x.max() if pd.api.types.is_numeric_dtype(x) else '-')\n",
    "\n",
    "    # MEASURES OF CENTRAL TENDENCY: MEAN, MEDIAN, MODE\n",
    "    summary['Mean'] = DataFrame.apply(lambda x: round(x.mean(), 2) if pd.api.types.is_numeric_dtype(x) else '-')\n",
    "    summary['Median'] = DataFrame.apply(lambda x: x.median() if pd.api.types.is_numeric_dtype(x) else '-')\n",
    "    summary['Mode'] = DataFrame.apply(lambda x: x.mode()[0] if not x.mode().empty else '-')\n",
    "\n",
    "    # MEASURES OF DISPERSION: RANGE, VARIANCE, STANDARD DEVIATION\n",
    "    summary['Range'] = DataFrame.apply(lambda x: x.max() - x.min() if pd.api.types.is_numeric_dtype(x) else '-')\n",
    "    summary['Variance'] = DataFrame.apply(lambda x: x.var() if pd.api.types.is_numeric_dtype(x) else '-')\n",
    "    summary['Std'] = DataFrame.apply(lambda x: x.std() if pd.api.types.is_numeric_dtype(x) else '-')\n",
    "\n",
    "    # MEASURE OF SHAPE: SKEWNESS, KURTOSIS\n",
    "    summary['Skewness'] = DataFrame.apply(lambda x: round(x.skew(), 2) if pd.api.types.is_numeric_dtype(x) else '-')\n",
    "    summary['Kurtosis'] = DataFrame.apply(lambda x: round(x.kurt(), 2) if pd.api.types.is_numeric_dtype(x) else '-')\n",
    "\n",
    "    return summary\n",
    "\n",
    "summarize(raw_data).sort_values(by=['DataType', 'Nunique'])"
   ]
  },
  {
   "cell_type": "markdown",
   "id": "911c4be1-a06e-4188-a993-928063ff5e58",
   "metadata": {},
   "source": [
    "**Point 02**: 'PolicyNumber' is merely an identification number. Let's drop it\n",
    "\n",
    "**Point 03**: The features 'Sex', 'PoliceReportFiled', and 'WitnessPresent' are actually **Boolean Types**. Should be converted to 0 or 1.\n",
    "\n",
    "**Point 04**: The features 'AccidentArea', 'Fault' and 'AgentType' each have only two unique values. Can also be converted to 0 or 1.\n",
    "\n",
    "**Point 05**: The minimum value if 'Age' is 0, which doesn't make sense. (Let's look into it later).\n",
    "\n",
    "**Point 06**: The features 'FraudFound_P' and 'Deductible' are highly skewed. Tipically, a feature is considered skewed if its skewness falls outside the range of -0.5~0.5.\n",
    "\n",
    "**Point 07**: The features 'WeekOfMonth', 'WeekOfMonthClaimed', 'FraudFound_P', 'Deductible' and 'DriverRating' exhibit high kurtosis. Tipically, a feature is considered to have high kurtosis if its values falls outside the range -1~1.\n",
    "\n",
    "**Point 08**: Strictly speaking, among all the features, only 'Age' us a numeric variable. The rest can be interpreted as categorical variables."
   ]
  },
  {
   "cell_type": "markdown",
   "id": "50ef161b-27f2-4fe5-9efc-4d27e90227dd",
   "metadata": {},
   "source": [
    "# 🔎02. Exploratory Data Analysis (EDA)🔎"
   ]
  },
  {
   "cell_type": "code",
   "execution_count": 6,
   "id": "1993c61f-512f-4450-9426-415f8d2cc61a",
   "metadata": {},
   "outputs": [
    {
     "data": {
      "text/plain": [
       "(15420, 33)"
      ]
     },
     "execution_count": 6,
     "metadata": {},
     "output_type": "execute_result"
    }
   ],
   "source": [
    "df_viz = raw_data.copy()\n",
    "df_viz.shape"
   ]
  },
  {
   "cell_type": "markdown",
   "id": "52c704d6-a2c6-43ae-977f-f50db5ff6f3d",
   "metadata": {},
   "source": [
    "### 01) Target Variable Balanced - FraudFound_P"
   ]
  },
  {
   "cell_type": "code",
   "execution_count": 7,
   "id": "d84edfff-a43a-4d9b-b540-08c44bcc2a7e",
   "metadata": {},
   "outputs": [
    {
     "data": {
      "text/html": [
       "<div>\n",
       "<style scoped>\n",
       "    .dataframe tbody tr th:only-of-type {\n",
       "        vertical-align: middle;\n",
       "    }\n",
       "\n",
       "    .dataframe tbody tr th {\n",
       "        vertical-align: top;\n",
       "    }\n",
       "\n",
       "    .dataframe thead th {\n",
       "        text-align: right;\n",
       "    }\n",
       "</style>\n",
       "<table border=\"1\" class=\"dataframe\">\n",
       "  <thead>\n",
       "    <tr style=\"text-align: right;\">\n",
       "      <th></th>\n",
       "      <th>FraudFound_P</th>\n",
       "      <th>count</th>\n",
       "    </tr>\n",
       "  </thead>\n",
       "  <tbody>\n",
       "    <tr>\n",
       "      <th>0</th>\n",
       "      <td>0</td>\n",
       "      <td>14497</td>\n",
       "    </tr>\n",
       "    <tr>\n",
       "      <th>1</th>\n",
       "      <td>1</td>\n",
       "      <td>923</td>\n",
       "    </tr>\n",
       "  </tbody>\n",
       "</table>\n",
       "</div>"
      ],
      "text/plain": [
       "   FraudFound_P  count\n",
       "0             0  14497\n",
       "1             1    923"
      ]
     },
     "execution_count": 7,
     "metadata": {},
     "output_type": "execute_result"
    }
   ],
   "source": [
    "fraud_counts = df_viz['FraudFound_P'].value_counts().reset_index()\n",
    "fraud_counts"
   ]
  },
  {
   "cell_type": "code",
   "execution_count": 8,
   "id": "66329b0e",
   "metadata": {},
   "outputs": [
    {
     "data": {
      "image/png": "[encoded data removed]",
      "text/plain": [
       "<Figure size 640x480 with 1 Axes>"
      ]
     },
     "metadata": {},
     "output_type": "display_data"
    }
   ],
   "source": [
    "# PLT AND SNS PIE CHART\n",
    "plt.title('Target Balance')\n",
    "patches, text = plt.pie(fraud_counts['count'], colors=['#87CEFA', '#FF6F61'], startangle=90)\n",
    "plt.legend(patches, [f'No Fraud Found ({(fraud_counts['count'][0]/fraud_counts['count'].sum())*100:.0f}%)', f'Fraud Found ({(fraud_counts['count'][1]/fraud_counts['count'].sum())*100:.0f}%)'], loc=\"best\")\n",
    "plt.axis('equal')\n",
    "plt.tight_layout()\n",
    "\n",
    "plt.show()"
   ]
  },
  {
   "cell_type": "markdown",
   "id": "6fd1e744-5b48-4c86-acf2-ff5cbf935acc",
   "metadata": {},
   "source": [
    "**Point 09**: The target variable 'FraudFound_P' is **highly imbalanced**"
   ]
  },
  {
   "cell_type": "markdown",
   "id": "d9f5d0a4-90ae-4098-a71a-8d059320cac3",
   "metadata": {},
   "source": [
    "#### Issues caused by imbalanced target variable:\n",
    "- **Model Bias**: The model may become biased towards the majority class, leading to poor performance on the minority class;\n",
    "- **Misleading Metrics**: Metrics like accuracy can be misleading, as high accuracy can be achieved by simply predicting the majority class;\n",
    "- **Poor Generalization**: The model may not generalize well to real-world scenarios where the minority class is important;"
   ]
  },
  {
   "cell_type": "markdown",
   "id": "cf138ccd-1582-4f30-b8c4-e6e90c12f0c0",
   "metadata": {},
   "source": [
    "#### Necessity of Oversampling\n",
    "\n",
    "- **Balanced Learning**: Balancing the dataset ensures that the model learns from all classes evenly. This leads to better performance across various scenarios when the model is deployed in real-world applications.\n",
    "\n",
    "*Will be performed in the Data Preprocessing part*"
   ]
  },
  {
   "cell_type": "markdown",
   "id": "144f620b-35e2-4169-8b49-cabc6636d94a",
   "metadata": {},
   "source": [
    "### 02) Fraud Detection by Sex"
   ]
  },
  {
   "cell_type": "code",
   "execution_count": 9,
   "id": "9a5de4b3",
   "metadata": {},
   "outputs": [],
   "source": [
    "df_fraud = df_viz[df_viz['FraudFound_P']==1]\n",
    "\n",
    "fraud_counts_sex = df_fraud['Sex'].value_counts()\n",
    "fraud_percentages_sex = (fraud_counts_sex / fraud_counts_sex.sum()) * 100"
   ]
  },
  {
   "cell_type": "code",
   "execution_count": 10,
   "id": "5bc2f3b1-2d5a-4a4e-853a-b6120c1f78cf",
   "metadata": {},
   "outputs": [
    {
     "data": {
      "image/png": "[encoded data removed]",
      "text/plain": [
       "<Figure size 640x480 with 1 Axes>"
      ]
     },
     "metadata": {},
     "output_type": "display_data"
    }
   ],
   "source": [
    "# SEABORN CHART\n",
    "\n",
    "plt.title('Fraud Detection by Age using Seaborn')\n",
    "\n",
    "ax = sns.barplot(x=fraud_counts_sex.index, y=fraud_counts_sex.values, hue=fraud_counts_sex.index, palette=sns.color_palette(['#87CEFA', '#FF6F61']))\n",
    "for container in ax.containers:\n",
    "    labels = [f'{i.get_height():.0f} ({(i.get_height()/fraud_counts_sex.sum())*100:.2f}%)' for i in container]\n",
    "    ax.bar_label(container, labels=labels)\n",
    "\n",
    "plt.show()"
   ]
  },
  {
   "cell_type": "markdown",
   "id": "371d2832-c5f2-48bd-b623-ef5ab0fdc128",
   "metadata": {},
   "source": [
    "**Point 10**: This results suggest that males are significantly more likely to be involved in detected fraud cases compared to females."
   ]
  },
  {
   "cell_type": "markdown",
   "id": "3fd9b941",
   "metadata": {},
   "source": [
    "### 03) Fraud Detection by Age & Age of Policy Holder"
   ]
  },
  {
   "cell_type": "code",
   "execution_count": 11,
   "id": "eb986d78",
   "metadata": {},
   "outputs": [],
   "source": [
    "df_fraud = df_viz[df_viz['FraudFound_P']==1]\n",
    "df_non_fraud = df_viz[df_viz['FraudFound_P']==0]\n",
    "\n",
    "df_counts_age = df_viz['Age'].value_counts().sort_index()\n",
    "df_counts_fraud_age = df_fraud['Age'].value_counts().sort_index()\n",
    "\n",
    "df_percentages_fraud_age = round((df_counts_fraud_age/df_counts_age)*100, 2)"
   ]
  },
  {
   "cell_type": "code",
   "execution_count": 12,
   "id": "15f4507f",
   "metadata": {},
   "outputs": [
    {
     "data": {
      "image/png": "[encoded data removed]",
      "text/plain": [
       "<Figure size 1000x500 with 1 Axes>"
      ]
     },
     "metadata": {},
     "output_type": "display_data"
    }
   ],
   "source": [
    "# SEABORN CHART\n",
    "\n",
    "plt.figure(figsize=(10, 5))\n",
    "ax = sns.barplot(x=df_percentages_fraud_age.index, y=df_percentages_fraud_age.values, color='skyblue', native_scale=True)\n",
    "ax.hlines(y=6, xmin=df_percentages_fraud_age.index.min()-1, xmax=df_percentages_fraud_age.index.max()+1, colors='red', linestyles=\"--\", linewidth=1)\n",
    "ax.set_xlim(-1, df_percentages_fraud_age.index.max()+1)\n",
    "ax.set_xticks(np.arange(0, df_percentages_fraud_age.index.max()+1, 10))\n",
    "ax.set_xticklabels(np.arange(0, df_percentages_fraud_age.index.max()+1, 10))\n",
    "ax.set_xlabel('Age')\n",
    "ax.set_ylabel('Percentage')\n",
    "ax.set_title('Fraud Detection by Age')\n",
    "\n",
    "plt.tight_layout()\n",
    "plt.show()"
   ]
  },
  {
   "cell_type": "code",
   "execution_count": 13,
   "id": "cd68b890",
   "metadata": {},
   "outputs": [],
   "source": [
    "df_counts_ageofpolicyholder = df_viz['AgeOfPolicyHolder'].value_counts().sort_index()\n",
    "df_counts_fraud_agepolicyholder = df_fraud['AgeOfPolicyHolder'].value_counts().sort_index()\n",
    "\n",
    "df_percentages_fraud_agepolicyholder = round((df_counts_fraud_agepolicyholder/df_counts_ageofpolicyholder)*100, 2)"
   ]
  },
  {
   "cell_type": "code",
   "execution_count": 14,
   "id": "7a81a9b2",
   "metadata": {},
   "outputs": [
    {
     "data": {
      "text/plain": [
       "AgeOfPolicyHolder\n",
       "16 to 17     9.69\n",
       "18 to 20    13.33\n",
       "21 to 25    14.81\n",
       "26 to 30     5.38\n",
       "31 to 35     6.44\n",
       "36 to 40     5.86\n",
       "41 to 50     5.09\n",
       "51 to 65     5.03\n",
       "over 65      5.91\n",
       "Name: count, dtype: float64"
      ]
     },
     "execution_count": 14,
     "metadata": {},
     "output_type": "execute_result"
    }
   ],
   "source": [
    "df_percentages_fraud_agepolicyholder"
   ]
  },
  {
   "cell_type": "code",
   "execution_count": 15,
   "id": "e0e66238",
   "metadata": {},
   "outputs": [
    {
     "data": {
      "image/png": "[encoded data removed]",
      "text/plain": [
       "<Figure size 640x480 with 1 Axes>"
      ]
     },
     "metadata": {},
     "output_type": "display_data"
    }
   ],
   "source": [
    "# SEABORN CHART\n",
    "\n",
    "ax = sns.barplot(x=df_percentages_fraud_agepolicyholder.index, y=df_percentages_fraud_agepolicyholder.values, color='skyblue', native_scale=True, dodge=False)\n",
    "ax.hlines(y=6, xmin=-1, xmax=df_percentages_fraud_agepolicyholder.count()-.5, colors='red', linestyles=\"--\", linewidth=1)\n",
    "ax.set_xlim(-.6, df_percentages_fraud_agepolicyholder.count()-.4)\n",
    "ax.set_xlabel('Age')\n",
    "ax.set_ylabel('Percentage')\n",
    "ax.set_title('Fraud Detection by Age of Policy Holder')\n",
    "\n",
    "plt.tight_layout()\n",
    "plt.show()"
   ]
  },
  {
   "cell_type": "markdown",
   "id": "57d6cb0c",
   "metadata": {},
   "source": [
    "**Point 11-1**: Fraud is mostr frequently detected among **teenagers** and **retired seniors**. Teenagers have weak financial power as they have not yet started their economic activities, and retired seniors experience weakened financial power post-retirement. Considering these points, there seem to be a correlation between financial power and fraud.\n",
    "\n",
    "**Point 11-2**: Conversely, **only the under-25 age group** exhibits a high fraud rate in 'AgeOfPolicyHolder' feature."
   ]
  },
  {
   "cell_type": "markdown",
   "id": "beb55b49",
   "metadata": {},
   "source": [
    "### 04) Fraud Detection by Make"
   ]
  },
  {
   "cell_type": "code",
   "execution_count": 16,
   "id": "25c5a8b5",
   "metadata": {},
   "outputs": [],
   "source": [
    "df_counts_make = df_viz['Make'].value_counts().sort_index()\n",
    "df_counts_fraud_make = df_fraud['Make'].value_counts().sort_index()\n",
    "\n",
    "df_percentages_fraud_make = round((df_counts_fraud_make/df_counts_make)*100,2).fillna(0).sort_values(ascending=False).reset_index()"
   ]
  },
  {
   "cell_type": "code",
   "execution_count": 17,
   "id": "811e5235",
   "metadata": {},
   "outputs": [
    {
     "data": {
      "image/png": "[encoded data removed]",
      "text/plain": [
       "<Figure size 1000x500 with 1 Axes>"
      ]
     },
     "metadata": {},
     "output_type": "display_data"
    }
   ],
   "source": [
    "# SEABORN CHART\n",
    "\n",
    "plt.figure(figsize=(10, 5))\n",
    "\n",
    "ax = sns.barplot(df_percentages_fraud_make, x='count', y='Make', color='lightcoral')\n",
    "ax.set_xticks(np.arange(0,df_percentages_fraud_make['count'].max()+1, 1))\n",
    "ax.vlines(x=6, ymin=-1, ymax=df_percentages_fraud_make.index.max()+.4, colors='gray', linestyles=\"--\", linewidth=2)\n",
    "ax.set_ylim(df_percentages_fraud_make.index.max()+.4, -.6)\n",
    "ax.set_xlabel('Percentage')\n",
    "ax.set_title('Fraud Detection by Make')\n",
    "\n",
    "plt.tight_layout()\n",
    "plt.show()"
   ]
  },
  {
   "cell_type": "markdown",
   "id": "5066f42f",
   "metadata": {},
   "source": [
    "**Point 12**: The **Mecedes owners** are more likely to be involved in fraud, with almost double the incidence compared to the 2nd highest group, Acura owners. On the other hand, the Lexus, Porche, Jaguar, Ferrari owners have never been reported for fraud - *all the four make are 'High-End'*. "
   ]
  },
  {
   "cell_type": "markdown",
   "id": "ad8e0a76",
   "metadata": {},
   "source": [
    "### 05) Fraud Detection by VehiclePrice"
   ]
  },
  {
   "cell_type": "code",
   "execution_count": 18,
   "id": "2e5451a0",
   "metadata": {},
   "outputs": [],
   "source": [
    "df_counts_vehicleprice = df_viz['VehiclePrice'].value_counts().sort_index()\n",
    "df_counts_fraud_vehicleprice = df_fraud['VehiclePrice'].value_counts().sort_index()\n",
    "\n",
    "df_percentages_fraud_vehicleprice = round((df_counts_fraud_vehicleprice/df_counts_vehicleprice)*100, 2).fillna(0).sort_values(ascending=False).reset_index()"
   ]
  },
  {
   "cell_type": "code",
   "execution_count": 19,
   "id": "f54d2252",
   "metadata": {},
   "outputs": [
    {
     "data": {
      "image/png": "[encoded data removed]",
      "text/plain": [
       "<Figure size 1000x500 with 1 Axes>"
      ]
     },
     "metadata": {},
     "output_type": "display_data"
    }
   ],
   "source": [
    "# SEABORN CHART\n",
    "\n",
    "plt.figure(figsize=(10, 5))\n",
    "\n",
    "ax = sns.barplot(df_percentages_fraud_vehicleprice, x='count', y='VehiclePrice', color='lightgreen')\n",
    "ax.set_xticks(np.arange(0,df_percentages_fraud_vehicleprice['count'].max()+1, 1))\n",
    "ax.vlines(x=6, ymin=-1, ymax=df_percentages_fraud_vehicleprice.index.max()+.4, colors='gray', linestyles=\"--\", linewidth=2)\n",
    "ax.set_ylim(df_percentages_fraud_vehicleprice.index.max()+.4, -.6)\n",
    "ax.set_xlabel('Percentage')\n",
    "ax.set_ylabel('Vehicle Price')\n",
    "ax.set_title('Fraud Detection by Vehicle Price')\n",
    "\n",
    "plt.tight_layout()\n",
    "plt.show()"
   ]
  },
  {
   "cell_type": "markdown",
   "id": "713e824b",
   "metadata": {},
   "source": [
    "**Point 13**: Fraudulent cases were detected most frequently in either the most expensive or the cheapest vehicle category."
   ]
  },
  {
   "cell_type": "markdown",
   "id": "b0b5b246",
   "metadata": {},
   "source": [
    "### 06) Fraud Detection by BasePolicy & PolicyType"
   ]
  },
  {
   "cell_type": "code",
   "execution_count": 20,
   "id": "0eeeb1cc",
   "metadata": {},
   "outputs": [],
   "source": [
    "# BASE POLICY\n",
    "\n",
    "df_counts_policy = df_viz['BasePolicy'].value_counts().sort_index()\n",
    "df_counts_fraud_policy = df_fraud['BasePolicy'].value_counts().sort_index()\n",
    "\n",
    "df_percentages_fraud_policy = round((df_counts_fraud_policy/df_counts_policy)*100, 2).fillna(0).sort_values(ascending=False).reset_index()\n",
    "\n",
    "# POLICY TYPE\n",
    "\n",
    "df_counts_policy2 = df_viz['PolicyType'].value_counts().sort_index()\n",
    "df_counts_fraud_policy2 = df_fraud['PolicyType'].value_counts().sort_index()\n",
    "\n",
    "df_percentages_fraud_policy2 = round((df_counts_fraud_policy2/df_counts_policy2)*100, 2).fillna(0).sort_values(ascending=False).reset_index()"
   ]
  },
  {
   "cell_type": "code",
   "execution_count": 21,
   "id": "7c9b96a0",
   "metadata": {},
   "outputs": [
    {
     "data": {
      "image/png": "[encoded data removed]",
      "text/plain": [
       "<Figure size 1200x600 with 2 Axes>"
      ]
     },
     "metadata": {},
     "output_type": "display_data"
    }
   ],
   "source": [
    "# SEABORN CHART\n",
    "\n",
    "plt.figure(figsize=(12,6))\n",
    "plt.suptitle('Fraud Detection by:')\n",
    "\n",
    "plt.subplot(1,2,1)\n",
    "ax = sns.barplot(df_percentages_fraud_policy, x='BasePolicy', y='count', color='lightblue')\n",
    "ax.set_yticks(np.arange(0,df_percentages_fraud_policy['count'].max()+1, 1))\n",
    "ax.hlines(y=6, xmin=-1, xmax=df_percentages_fraud_policy['count'].max()+.4, colors='red', linestyles=\"--\", linewidth=1)\n",
    "ax.set_xlim(df_percentages_fraud_policy['count'].count(), -1)\n",
    "ax.set_ylabel('Percentage')\n",
    "ax.set_xlabel('')\n",
    "ax.set_title('Base Policy')\n",
    "\n",
    "plt.subplot(1,2,2)\n",
    "ax = sns.barplot(df_percentages_fraud_policy2, x='PolicyType', y='count', color='lightcoral')\n",
    "ax.set_yticks(np.arange(0,df_percentages_fraud_policy2['count'].max()+1, 1))\n",
    "ax.hlines(y=6, xmin=-1, xmax=df_percentages_fraud_policy2['count'].max()+.4, colors='red', linestyles=\"--\", linewidth=1)\n",
    "ax.set_xlim(df_percentages_fraud_policy2['count'].count(), -1)\n",
    "ax.set_ylabel('Percentage')\n",
    "ax.set_xlabel('')\n",
    "ax.set_title('Policy Type')\n",
    "plt.xticks(rotation=-90)\n",
    "\n",
    "plt.tight_layout()\n",
    "\n",
    "plt.show()"
   ]
  },
  {
   "cell_type": "markdown",
   "id": "b25b0d87",
   "metadata": {},
   "source": [
    "**Point 14**: Fraudulent cases were detected most frequently under the 'All Perils'. Within specify Policy Types, 'Sport-Colision', had the highest fraud detection rate."
   ]
  },
  {
   "cell_type": "markdown",
   "id": "282139d9",
   "metadata": {},
   "source": [
    "### 07) Fraud Detection by Age of Vehicle"
   ]
  },
  {
   "cell_type": "code",
   "execution_count": 22,
   "id": "485a576f",
   "metadata": {},
   "outputs": [],
   "source": [
    "df_counts_agevehicle = df_viz['AgeOfVehicle'].value_counts().sort_index()\n",
    "df_counts_fraud_agevehicle = df_fraud['AgeOfVehicle'].value_counts().sort_index()\n",
    "\n",
    "df_percentages_fraud_agevehicle = round((df_counts_fraud_agevehicle/df_counts_agevehicle)*100, 2).sort_values(ascending=False).reset_index()"
   ]
  },
  {
   "cell_type": "code",
   "execution_count": 23,
   "id": "c9719efa",
   "metadata": {},
   "outputs": [
    {
     "data": {
      "image/png": "[encoded data removed]",
      "text/plain": [
       "<Figure size 800x500 with 1 Axes>"
      ]
     },
     "metadata": {},
     "output_type": "display_data"
    }
   ],
   "source": [
    "# SEABORN CHART\n",
    "\n",
    "plt.figure(figsize=(8, 5))\n",
    "\n",
    "ax = sns.barplot(df_percentages_fraud_agevehicle, x='count', y='AgeOfVehicle', color='orange')\n",
    "ax.set_xticks(np.arange(0,df_percentages_fraud_agevehicle['count'].max()+1, 1))\n",
    "ax.vlines(x=6, ymin=-1, ymax=df_percentages_fraud_agevehicle.index.max()+.4, colors='green', linestyles=\"--\", linewidth=1)\n",
    "ax.set_ylim(df_percentages_fraud_agevehicle.index.max()+.4, -.6)\n",
    "ax.set_xlabel('Percentage')\n",
    "ax.set_ylabel('Age of Vehicle')\n",
    "ax.set_title('Fraud Detection by Age of Vehicle')\n",
    "\n",
    "plt.tight_layout()\n",
    "plt.show()"
   ]
  },
  {
   "cell_type": "markdown",
   "id": "f6c5c719",
   "metadata": {},
   "source": [
    "**Point 15**: The feature 'AgeOfVehicle' actually can be re-classified into 3 cateogires. The *highest*, *mid* and *low* fraudulent groups."
   ]
  },
  {
   "cell_type": "markdown",
   "id": "d188b040",
   "metadata": {},
   "source": [
    "### 08) Fraud Detection by Month & MonthClaimed"
   ]
  },
  {
   "cell_type": "code",
   "execution_count": 24,
   "id": "6eb7d88b",
   "metadata": {},
   "outputs": [],
   "source": [
    "df_counts_month = df_viz['Month'].value_counts().sort_index()\n",
    "df_counts_fraud_month = df_fraud['Month'].value_counts().sort_index()\n",
    "\n",
    "df_percentages_fraud_month = round((df_counts_fraud_month/df_counts_month)*100, 2).fillna(0).sort_values(ascending=False).reset_index()\n",
    "\n",
    "df_counts_monthclaimed = df_viz['MonthClaimed'].value_counts().sort_index()\n",
    "df_counts_fraud_monthclaimed = df_fraud['MonthClaimed'].value_counts().sort_index()\n",
    "\n",
    "df_percentages_fraud_monthclaimed = round((df_counts_fraud_monthclaimed/df_counts_monthclaimed)*100, 2).fillna(0).sort_values(ascending=False).reset_index()\n",
    "\n"
   ]
  },
  {
   "cell_type": "code",
   "execution_count": 25,
   "id": "8a91de82",
   "metadata": {},
   "outputs": [
    {
     "data": {
      "text/html": [
       "<div>\n",
       "<style scoped>\n",
       "    .dataframe tbody tr th:only-of-type {\n",
       "        vertical-align: middle;\n",
       "    }\n",
       "\n",
       "    .dataframe tbody tr th {\n",
       "        vertical-align: top;\n",
       "    }\n",
       "\n",
       "    .dataframe thead th {\n",
       "        text-align: right;\n",
       "    }\n",
       "</style>\n",
       "<table border=\"1\" class=\"dataframe\">\n",
       "  <thead>\n",
       "    <tr style=\"text-align: right;\">\n",
       "      <th></th>\n",
       "      <th>MonthClaimed</th>\n",
       "      <th>count</th>\n",
       "    </tr>\n",
       "  </thead>\n",
       "  <tbody>\n",
       "    <tr>\n",
       "      <th>0</th>\n",
       "      <td>Aug</td>\n",
       "      <td>8.17</td>\n",
       "    </tr>\n",
       "    <tr>\n",
       "      <th>1</th>\n",
       "      <td>May</td>\n",
       "      <td>7.23</td>\n",
       "    </tr>\n",
       "    <tr>\n",
       "      <th>2</th>\n",
       "      <td>Mar</td>\n",
       "      <td>7.20</td>\n",
       "    </tr>\n",
       "    <tr>\n",
       "      <th>3</th>\n",
       "      <td>Apr</td>\n",
       "      <td>6.45</td>\n",
       "    </tr>\n",
       "    <tr>\n",
       "      <th>4</th>\n",
       "      <td>Jan</td>\n",
       "      <td>6.36</td>\n",
       "    </tr>\n",
       "    <tr>\n",
       "      <th>5</th>\n",
       "      <td>Sep</td>\n",
       "      <td>6.28</td>\n",
       "    </tr>\n",
       "    <tr>\n",
       "      <th>6</th>\n",
       "      <td>Feb</td>\n",
       "      <td>6.06</td>\n",
       "    </tr>\n",
       "    <tr>\n",
       "      <th>7</th>\n",
       "      <td>Jun</td>\n",
       "      <td>6.03</td>\n",
       "    </tr>\n",
       "    <tr>\n",
       "      <th>8</th>\n",
       "      <td>Oct</td>\n",
       "      <td>5.45</td>\n",
       "    </tr>\n",
       "    <tr>\n",
       "      <th>9</th>\n",
       "      <td>Jul</td>\n",
       "      <td>4.57</td>\n",
       "    </tr>\n",
       "    <tr>\n",
       "      <th>10</th>\n",
       "      <td>Dec</td>\n",
       "      <td>4.28</td>\n",
       "    </tr>\n",
       "    <tr>\n",
       "      <th>11</th>\n",
       "      <td>Nov</td>\n",
       "      <td>3.58</td>\n",
       "    </tr>\n",
       "    <tr>\n",
       "      <th>12</th>\n",
       "      <td>0</td>\n",
       "      <td>0.00</td>\n",
       "    </tr>\n",
       "  </tbody>\n",
       "</table>\n",
       "</div>"
      ],
      "text/plain": [
       "   MonthClaimed  count\n",
       "0           Aug   8.17\n",
       "1           May   7.23\n",
       "2           Mar   7.20\n",
       "3           Apr   6.45\n",
       "4           Jan   6.36\n",
       "5           Sep   6.28\n",
       "6           Feb   6.06\n",
       "7           Jun   6.03\n",
       "8           Oct   5.45\n",
       "9           Jul   4.57\n",
       "10          Dec   4.28\n",
       "11          Nov   3.58\n",
       "12            0   0.00"
      ]
     },
     "execution_count": 25,
     "metadata": {},
     "output_type": "execute_result"
    }
   ],
   "source": [
    "df_percentages_fraud_monthclaimed"
   ]
  },
  {
   "cell_type": "code",
   "execution_count": 26,
   "id": "476ff8d4",
   "metadata": {},
   "outputs": [
    {
     "data": {
      "image/png": "[encoded data removed]",
      "text/plain": [
       "<Figure size 1200x600 with 2 Axes>"
      ]
     },
     "metadata": {},
     "output_type": "display_data"
    }
   ],
   "source": [
    "# SEABORN CHART\n",
    "\n",
    "month_order = {'Jan':1, 'Feb':2, 'Mar':3, 'Apr':4, 'May':5, 'Jun':6, 'Jul':7, 'Aug':8, 'Sep':9, 'Oct':10, 'Nov':11, 'Dec':12}\n",
    "\n",
    "plt.figure(figsize=(12,6))\n",
    "plt.suptitle('Fraud Detection by:')\n",
    "# sns.countplot(df.sort_values(by='Month', key=lambda x: x.map(month_order)), x='Month', hue='Season') #hue='FraudFound_P'\n",
    "\n",
    "plt.subplot(1,2,1)\n",
    "ax = sns.barplot(df_percentages_fraud_month.sort_values(by='Month', key=lambda x: x.map(month_order), ascending=False), x='Month', y='count', color='lightblue')\n",
    "ax.set_yticks(np.arange(0,df_percentages_fraud_month['count'].count(), 1))\n",
    "ax.hlines(y=6, xmin=-1, xmax=df_percentages_fraud_month['count'].count(), colors='red', linestyles=\"--\", linewidth=1)\n",
    "ax.set_xlim(df_percentages_fraud_month['count'].count(), -1)\n",
    "ax.set_ylim(0, 8.5)\n",
    "ax.set_ylabel('Percentage')\n",
    "ax.set_xlabel('')\n",
    "ax.set_title('Month')\n",
    "\n",
    "plt.subplot(1,2,2)\n",
    "ax = sns.barplot(df_percentages_fraud_monthclaimed.sort_values(by='MonthClaimed', key=lambda x: x.map(month_order), ascending=False), x='MonthClaimed', y='count', color='lightcoral')\n",
    "ax.hlines(y=6, xmin=-1, xmax=df_percentages_fraud_monthclaimed['count'].count(), colors='red', linestyles=\"--\", linewidth=1)\n",
    "ax.set_xlim(df_percentages_fraud_monthclaimed['count'].count(), -1)\n",
    "ax.set_ylabel('Percentage')\n",
    "ax.set_xlabel('')\n",
    "ax.set_title('Month Claimed')\n",
    "\n",
    "plt.tight_layout()\n",
    "\n",
    "plt.show()"
   ]
  },
  {
   "cell_type": "markdown",
   "id": "743044ca",
   "metadata": {},
   "source": [
    "**Point 16**: The features have similar distributions (no need to use both)."
   ]
  },
  {
   "cell_type": "markdown",
   "id": "7235cd42",
   "metadata": {},
   "source": [
    "### 09) Fraud Detection by Season (Feature Engineering)\n",
    "\n",
    "- **Season Observation Test**"
   ]
  },
  {
   "cell_type": "code",
   "execution_count": 27,
   "id": "d8d60438",
   "metadata": {},
   "outputs": [
    {
     "data": {
      "text/html": [
       "<div>\n",
       "<style scoped>\n",
       "    .dataframe tbody tr th:only-of-type {\n",
       "        vertical-align: middle;\n",
       "    }\n",
       "\n",
       "    .dataframe tbody tr th {\n",
       "        vertical-align: top;\n",
       "    }\n",
       "\n",
       "    .dataframe thead th {\n",
       "        text-align: right;\n",
       "    }\n",
       "</style>\n",
       "<table border=\"1\" class=\"dataframe\">\n",
       "  <thead>\n",
       "    <tr style=\"text-align: right;\">\n",
       "      <th></th>\n",
       "      <th>Season</th>\n",
       "      <th>count</th>\n",
       "    </tr>\n",
       "  </thead>\n",
       "  <tbody>\n",
       "    <tr>\n",
       "      <th>0</th>\n",
       "      <td>Spring</td>\n",
       "      <td>6.97</td>\n",
       "    </tr>\n",
       "    <tr>\n",
       "      <th>1</th>\n",
       "      <td>Summer</td>\n",
       "      <td>6.20</td>\n",
       "    </tr>\n",
       "    <tr>\n",
       "      <th>2</th>\n",
       "      <td>Winter</td>\n",
       "      <td>5.65</td>\n",
       "    </tr>\n",
       "    <tr>\n",
       "      <th>3</th>\n",
       "      <td>Autumn</td>\n",
       "      <td>5.10</td>\n",
       "    </tr>\n",
       "  </tbody>\n",
       "</table>\n",
       "</div>"
      ],
      "text/plain": [
       "   Season  count\n",
       "0  Spring   6.97\n",
       "1  Summer   6.20\n",
       "2  Winter   5.65\n",
       "3  Autumn   5.10"
      ]
     },
     "execution_count": 27,
     "metadata": {},
     "output_type": "execute_result"
    }
   ],
   "source": [
    "seasons = {'Jan': 'Winter', 'Feb':'Winter', 'Mar':'Spring', 'Apr':'Spring', 'May':'Spring', 'Jun':'Summer', 'Jul':'Summer', 'Aug':'Summer', 'Sep':'Autumn', 'Oct':'Autumn', 'Nov':'Autumn', 'Dec':'Winter'}\n",
    "season_order = {'Winter':1, 'Spring':2, 'Summer':3, 'Autumn':4}\n",
    "\n",
    "df_viz_v2 = df_viz.copy()\n",
    "df_viz_v2['Season'] = df_viz_v2['MonthClaimed'].map(seasons)\n",
    "\n",
    "df_fraud_v2 = df_viz_v2[df_viz_v2['FraudFound_P']==1]\n",
    "\n",
    "df_counts_fraud_season = df_fraud_v2['Season'].value_counts().sort_index()\n",
    "df_counts_season = df_viz_v2['Season'].value_counts().sort_index()\n",
    "\n",
    "df_percentages_fraud_season = round((df_counts_fraud_season/df_counts_season)*100, 2).fillna(0).sort_values(ascending=False).reset_index()\n",
    "df_percentages_fraud_season"
   ]
  },
  {
   "cell_type": "code",
   "execution_count": 28,
   "id": "5f17bc1b",
   "metadata": {},
   "outputs": [],
   "source": [
    "df_viz_v2['MonthClaimed'] = df_viz_v2['MonthClaimed'].map(month_order)\n",
    "df_viz_v2['Month'] = df_viz_v2['Month'].map(month_order)\n",
    "df_viz_v2['Season'] = df_viz_v2['Season'].map(season_order)"
   ]
  },
  {
   "cell_type": "code",
   "execution_count": 29,
   "id": "1c150b77",
   "metadata": {},
   "outputs": [
    {
     "data": {
      "text/plain": [
       "Age                  -0.029741\n",
       "MonthClaimed         -0.028982\n",
       "Month                -0.027278\n",
       "Year                 -0.024760\n",
       "PolicyNumber         -0.020345\n",
       "WeekOfMonth          -0.011861\n",
       "Season               -0.011663\n",
       "RepNumber            -0.007551\n",
       "WeekOfMonthClaimed   -0.005761\n",
       "DriverRating          0.007266\n",
       "Deductible            0.017348\n",
       "FraudFound_P          1.000000\n",
       "Name: FraudFound_P, dtype: float64"
      ]
     },
     "execution_count": 29,
     "metadata": {},
     "output_type": "execute_result"
    }
   ],
   "source": [
    "corr_matrix = df_viz_v2.corr(numeric_only=True)\n",
    "corr_matrix['FraudFound_P'].sort_values()"
   ]
  },
  {
   "cell_type": "code",
   "execution_count": 30,
   "id": "18cfcfa7",
   "metadata": {},
   "outputs": [],
   "source": [
    "df_percentages_fraud_monthclaimed_v2 = df_percentages_fraud_monthclaimed.copy()\n",
    "df_percentages_fraud_monthclaimed_v2['Season'] = df_percentages_fraud_monthclaimed_v2['MonthClaimed'].map(seasons)"
   ]
  },
  {
   "cell_type": "code",
   "execution_count": 31,
   "id": "14e486f8",
   "metadata": {},
   "outputs": [
    {
     "data": {
      "image/png": "[encoded data removed]",
      "text/plain": [
       "<Figure size 1200x600 with 2 Axes>"
      ]
     },
     "metadata": {},
     "output_type": "display_data"
    }
   ],
   "source": [
    "plt.figure(figsize=(12,6))\n",
    "\n",
    "plt.subplot(1,2,1)\n",
    "ax = sns.barplot(df_percentages_fraud_monthclaimed_v2.sort_values(by='MonthClaimed', key=lambda x: x.map(month_order), ascending=False), x='MonthClaimed', y='count', hue='Season', dodge=False)\n",
    "ax.set_yticks(np.arange(0,df_percentages_fraud_monthclaimed_v2['count'].count(), 1))\n",
    "ax.hlines(y=6, xmin=-1, xmax=df_percentages_fraud_monthclaimed_v2['count'].count(), colors='red', linestyles=\"--\", linewidth=1)\n",
    "ax.set_xlim(df_percentages_fraud_monthclaimed_v2['count'].count(), -1)\n",
    "ax.set_ylabel('Percentage')\n",
    "ax.set_xlabel('')\n",
    "ax.set_title('Month Claimed')\n",
    "\n",
    "plt.subplot(1,2,2)\n",
    "ax = sns.barplot(df_percentages_fraud_season.sort_values(by='Season', key=lambda x: x.map(season_order), ascending=False), x='Season', y='count', color='lightgreen')\n",
    "ax.hlines(y=6, xmin=-1, xmax=df_percentages_fraud_season['count'].count(), colors='red', linestyles=\"--\", linewidth=1)\n",
    "ax.set_ylim(0, df_percentages_fraud_monthclaimed_v2['count'].max()+.4)\n",
    "ax.set_xlim(df_percentages_fraud_season['count'].count(), -1)\n",
    "ax.set_ylabel('Percentage')\n",
    "ax.set_xlabel('')\n",
    "ax.set_title('Season Claimed')\n",
    "\n",
    "plt.tight_layout()\n",
    "plt.show()"
   ]
  },
  {
   "cell_type": "markdown",
   "id": "ee224fee",
   "metadata": {},
   "source": [
    "**Point 16.1**: Maybe the 'Seasons' gives us a better generalization than the 'Month' itself."
   ]
  },
  {
   "cell_type": "markdown",
   "id": "9ebbe7eb",
   "metadata": {},
   "source": [
    "# 🔄03. Data Preprocessing🔄"
   ]
  },
  {
   "cell_type": "markdown",
   "id": "9c3e05c8",
   "metadata": {},
   "source": [
    "#### What is Data Preprocessing?\n",
    "Data Preprocessing is the process of transforming raw data into a clean and usable format for analysis or machine learning models. It involves several steps to ensure the data is accurate, consistent, and ready for further processing.\n",
    "Here are the main components of data preprocessing:\n",
    "\n",
    "01) **Data Cleaning**: Handling Missing Values, Removing Duplicates, Correcting Inaccurate Data, Ensuring Consistency, Handling Outliers\n",
    "02) **Data Integration**: Combining data from different sources into a coherent dataset.\n",
    "03) **Data Transformation**: Normalization and Scaling, Encoding Categorical Variable, Feature Engineering, Aggregation\n",
    "04) **Data Reduction**: Dimensionality Reduction, Feature Selection, Sampling\n",
    "05) **Data Discretization**: Converting continous data into discrete buckets\n",
    "06) **Data Splitting**: Dividing data into training, validation, and test sets."
   ]
  },
  {
   "cell_type": "code",
   "execution_count": 32,
   "id": "ce84e0f5",
   "metadata": {},
   "outputs": [
    {
     "data": {
      "text/plain": [
       "(15420, 33)"
      ]
     },
     "execution_count": 32,
     "metadata": {},
     "output_type": "execute_result"
    }
   ],
   "source": [
    "df_clean_v1 = raw_data.copy()\n",
    "df_clean_v1.shape"
   ]
  },
  {
   "cell_type": "markdown",
   "id": "39b42d6d",
   "metadata": {},
   "source": [
    "### 01) Data Transformation - Encoding Categorical Variables (**Binary Variable**) - Label Encoding\n",
    "\n",
    "- AccidentArea, Sex, Fault, PoliceReportFiled, WitnessPresent and AgentType"
   ]
  },
  {
   "cell_type": "code",
   "execution_count": 33,
   "id": "7860a558",
   "metadata": {},
   "outputs": [
    {
     "name": "stdout",
     "output_type": "stream",
     "text": [
      "The number of Binary Columns:  6\n",
      "Binary Columns:  ['AccidentArea', 'Sex', 'Fault', 'PoliceReportFiled', 'WitnessPresent', 'AgentType']\n"
     ]
    }
   ],
   "source": [
    "binary_columns = [col for col in df_clean_v1.columns if df_clean_v1[col].nunique()==2 and col!='FraudFound_P']\n",
    "\n",
    "print('The number of Binary Columns: ', len(binary_columns))\n",
    "print('Binary Columns: ', binary_columns)"
   ]
  },
  {
   "cell_type": "code",
   "execution_count": 34,
   "id": "2855de0b",
   "metadata": {},
   "outputs": [
    {
     "name": "stdout",
     "output_type": "stream",
     "text": [
      "Label Mapping:  {'Rural': 0, 'Urban': 1}\n",
      "Label Mapping:  {'Female': 0, 'Male': 1}\n",
      "Label Mapping:  {'Policy Holder': 0, 'Third Party': 1}\n",
      "Label Mapping:  {'No': 0, 'Yes': 1}\n",
      "Label Mapping:  {'No': 0, 'Yes': 1}\n",
      "Label Mapping:  {'External': 0, 'Internal': 1}\n"
     ]
    }
   ],
   "source": [
    "le = LabelEncoder()\n",
    "\n",
    "for col in binary_columns:\n",
    "    df_clean_v1[col] = le.fit_transform(df_clean_v1[col])\n",
    "    print('Label Mapping: ', dict(zip(le.classes_, le.transform(le.classes_))))"
   ]
  },
  {
   "cell_type": "markdown",
   "id": "84eaf9af",
   "metadata": {},
   "source": [
    "### 02) Data Transformation - Encoding Categorical Variables (**Ordinal Categorical Variables & Nominal Categorical Variables**) - Label Encoding\n",
    "\n",
    "- VehiclePrice, AgeOfVehicle and BasePolicy"
   ]
  },
  {
   "cell_type": "code",
   "execution_count": 35,
   "id": "8235cc2a",
   "metadata": {},
   "outputs": [
    {
     "name": "stdout",
     "output_type": "stream",
     "text": [
      "The unique values in VehiclePrice: ['more than 69000' '20000 to 29000' '30000 to 39000' 'less than 20000'\n",
      " '40000 to 59000' '60000 to 69000']\n",
      "The unique values in AgeOfVehicle: ['3 years' '6 years' '7 years' 'more than 7' '5 years' 'new' '4 years'\n",
      " '2 years']\n",
      "The unique values in BasePolicy: ['Liability' 'Collision' 'All Perils']\n"
     ]
    }
   ],
   "source": [
    "cat_columns = ['VehiclePrice', 'AgeOfVehicle', 'BasePolicy']\n",
    "for col in cat_columns:\n",
    "    print(f'The unique values in {col}: {df_clean_v1[col].unique()}')"
   ]
  },
  {
   "cell_type": "markdown",
   "id": "6153c71f",
   "metadata": {},
   "source": [
    "- I converted 'VehiclePrice' into a binary variable rather than an ordinal one. This decision was based on the fact that the categories 'more than 69000' and 'less than 20000' have the highest fraud rates, showing that the feature does not follow an ordinal pattern. (Please refer to ***Visualization 5***)\n",
    "- I transformed 'AgeOfVehicle' into a nominal categorical variable for the same reason as 'VehiclePrice.' However, this feature can be re-classified into three categories. (Please refer to ***Visualization 7***)\n",
    "- Only, 'BasePolicy' keeps its natural characteristic as a ordinal categorical variable. (Please refer to ***Visualization 6***)"
   ]
  },
  {
   "cell_type": "code",
   "execution_count": 36,
   "id": "9a1d3dba",
   "metadata": {},
   "outputs": [],
   "source": [
    "vehicleprice_label = {\n",
    "    'more than 69000' : 1,\n",
    "    '20000 to 29000'  : 0,\n",
    "    '30000 to 39000'  : 0,\n",
    "    'less than 20000' : 0,\n",
    "    '40000 to 59000'  : 0,\n",
    "    '60000 to 69000'  : 1\n",
    "}\n",
    "\n",
    "ageofvehicle_label = {\n",
    "    'new'         : 2,\n",
    "    '2 years'     : 0,\n",
    "    '3 years'     : 2,\n",
    "    '4 years'     : 2,\n",
    "    '5 years'     : 1,\n",
    "    '6 years'     : 1,\n",
    "    '7 years'     : 0,\n",
    "    'more than 7' : 0,\n",
    "}\n",
    "\n",
    "basepolicy_label = {\n",
    "    'Liability'  : 0,\n",
    "    'Collision'  : 1,\n",
    "    'All Perils' : 2\n",
    "}"
   ]
  },
  {
   "cell_type": "code",
   "execution_count": 37,
   "id": "bcd32aa6",
   "metadata": {},
   "outputs": [],
   "source": [
    "df_clean_v1['VehiclePrice'] = df_clean_v1['VehiclePrice'].map(vehicleprice_label)\n",
    "df_clean_v1['AgeOfVehicle'] = df_clean_v1['AgeOfVehicle'].map(ageofvehicle_label)\n",
    "df_clean_v1['BasePolicy'] = df_clean_v1['BasePolicy'].map(basepolicy_label)"
   ]
  },
  {
   "cell_type": "code",
   "execution_count": 38,
   "id": "2e9ff9c4",
   "metadata": {},
   "outputs": [
    {
     "data": {
      "text/plain": [
       "(15420, 33)"
      ]
     },
     "execution_count": 38,
     "metadata": {},
     "output_type": "execute_result"
    }
   ],
   "source": [
    "df_clean_v2 = df_clean_v1.copy()\n",
    "df_clean_v2.shape"
   ]
  },
  {
   "cell_type": "markdown",
   "id": "d109825b",
   "metadata": {},
   "source": [
    "### 03) Data Reduction - Feature Selecion 01 (Drop Useless Columns)\n",
    "\n",
    "- I dropped 'Month' we already have similar feature 'Month Claimed' (Please refer to ***Visualization 8***)\n",
    "- Also, I dropped other features related to *Date*"
   ]
  },
  {
   "cell_type": "code",
   "execution_count": 39,
   "id": "a52eba0f",
   "metadata": {},
   "outputs": [
    {
     "data": {
      "text/plain": [
       "(15420, 26)"
      ]
     },
     "execution_count": 39,
     "metadata": {},
     "output_type": "execute_result"
    }
   ],
   "source": [
    "useless_cols = ['Month', 'WeekOfMonth', 'DayOfWeek', 'DayOfWeekClaimed', 'WeekOfMonthClaimed', 'PolicyNumber', 'AgeOfPolicyHolder']\n",
    "df_clean_v3 = df_clean_v2.drop(useless_cols, axis=1)\n",
    "df_clean_v3.shape"
   ]
  },
  {
   "cell_type": "markdown",
   "id": "fd2b373c",
   "metadata": {},
   "source": [
    "### 04) Data Transformation - One-Hot Encoding (Other categorical variables)\n",
    "\n",
    "- I changed datatypes of some features into ***'string'*** before performing One-Hot Encoding to correct identification of categoris."
   ]
  },
  {
   "cell_type": "code",
   "execution_count": 40,
   "id": "d410add8",
   "metadata": {},
   "outputs": [],
   "source": [
    "dtype_change_str = ['RepNumber', 'Deductible', 'Year']\n",
    "\n",
    "for col in dtype_change_str:\n",
    "    df_clean_v3[col] = df_clean_v3[col].astype(str)"
   ]
  },
  {
   "cell_type": "code",
   "execution_count": 41,
   "id": "f6f9a7fc",
   "metadata": {},
   "outputs": [
    {
     "name": "stdout",
     "output_type": "stream",
     "text": [
      "The number of One-Hot encoding target features : 14\n"
     ]
    }
   ],
   "source": [
    "onehot_enc_cols = ['Make', 'MonthClaimed', 'MaritalStatus', 'PolicyType', 'VehicleCategory', 'RepNumber', 'Deductible', 'Days_Policy_Accident', 'Days_Policy_Claim', 'PastNumberOfClaims', 'NumberOfSuppliments', 'AddressChange_Claim', 'NumberOfCars', 'Year']\n",
    "print('The number of One-Hot encoding target features :', len(onehot_enc_cols))"
   ]
  },
  {
   "cell_type": "code",
   "execution_count": 42,
   "id": "0345f19e",
   "metadata": {},
   "outputs": [
    {
     "data": {
      "text/plain": [
       "(15420, 110)"
      ]
     },
     "execution_count": 42,
     "metadata": {},
     "output_type": "execute_result"
    }
   ],
   "source": [
    "df_clean_v4 = pd.get_dummies(df_clean_v3, columns=onehot_enc_cols, dtype='int64')\n",
    "df_clean_v4.shape"
   ]
  },
  {
   "cell_type": "markdown",
   "id": "cb4aef47",
   "metadata": {},
   "source": [
    "### 05) Data Reduction - Feature Selection 02 (Drop Constant Features)"
   ]
  },
  {
   "cell_type": "code",
   "execution_count": 43,
   "id": "bbbd2a2b",
   "metadata": {},
   "outputs": [
    {
     "name": "stdout",
     "output_type": "stream",
     "text": [
      "The Number of One-hot Encoded Columns:  98\n"
     ]
    }
   ],
   "source": [
    "onehot_encoded_cols = [col for col in df_clean_v4.columns if '_' in col]\n",
    "onehot_encoded_cols.remove(\"FraudFound_P\")\n",
    "print(\"The Number of One-hot Encoded Columns: \", len(onehot_encoded_cols))"
   ]
  },
  {
   "cell_type": "code",
   "execution_count": 44,
   "id": "ede9bd92",
   "metadata": {},
   "outputs": [
    {
     "name": "stdout",
     "output_type": "stream",
     "text": [
      "The Number of Constant Features:  9\n"
     ]
    }
   ],
   "source": [
    "const_features = []\n",
    "for col in onehot_encoded_cols:\n",
    "    if df_clean_v4[col].sum() <= 5:\n",
    "        const_features.append(col)\n",
    "print(\"The Number of Constant Features: \", len(const_features))"
   ]
  },
  {
   "cell_type": "code",
   "execution_count": 45,
   "id": "048f5b63",
   "metadata": {},
   "outputs": [
    {
     "data": {
      "text/plain": [
       "(15420, 101)"
      ]
     },
     "execution_count": 45,
     "metadata": {},
     "output_type": "execute_result"
    }
   ],
   "source": [
    "df_clean_v4.drop(columns=const_features, axis=1, inplace=True)\n",
    "df_clean_v4.shape"
   ]
  },
  {
   "cell_type": "markdown",
   "id": "5d19c34c",
   "metadata": {},
   "source": [
    "### 06) Data Cleaning - Correcting Inaccurate Data & Handling Outliers (Age) - **Outlier Replacement using LighGBM**\n",
    "\n",
    "- 'Age' is the only (properly) numeric variable in this dataset."
   ]
  },
  {
   "cell_type": "code",
   "execution_count": 46,
   "id": "7409429e",
   "metadata": {},
   "outputs": [
    {
     "data": {
      "image/png": "[encoded data removed]",
      "text/plain": [
       "<Figure size 1200x500 with 2 Axes>"
      ]
     },
     "metadata": {},
     "output_type": "display_data"
    }
   ],
   "source": [
    "plt.figure(figsize=(12,5))\n",
    "plt.suptitle('Distribution of Age')\n",
    "\n",
    "plt.subplot(1,2,1)\n",
    "ax = sns.histplot(df_viz, x='Age')\n",
    "\n",
    "plt.subplot(1,2,2)\n",
    "ax = sns.boxplot(df_viz, y='Age', color='lightgreen')\n",
    "\n",
    "plt.tight_layout()\n",
    "plt.show()"
   ]
  },
  {
   "cell_type": "code",
   "execution_count": 47,
   "id": "e59e00ca",
   "metadata": {},
   "outputs": [
    {
     "name": "stdout",
     "output_type": "stream",
     "text": [
      "Q1: 31.0\n",
      "Q3: 48.0\n",
      "IQR: 17.0\n",
      "Minimum: 5.5\n",
      "Maximum: 73.5\n"
     ]
    }
   ],
   "source": [
    "q1, q3 = np.percentile(df_viz['Age'], [25, 75])\n",
    "iqr = q3-q1\n",
    "minimum, maximum = [q1 - iqr*1.5, q3 + iqr*1.5]\n",
    "print(f'Q1: {q1}')\n",
    "print(f'Q3: {q3}')\n",
    "print(f'IQR: {iqr}')\n",
    "print(f'Minimum: {minimum}')\n",
    "print(f'Maximum: {maximum}')"
   ]
  },
  {
   "cell_type": "markdown",
   "id": "ed9864b8",
   "metadata": {},
   "source": [
    "As mentioned previously, it doesn't make sense to include 0 values. This dataset is 'Vehicle Claim Fraud Detection!' (Please refer to ***Point05***)\n",
    "\n",
    "- I decided to handle the 0s in this feature and outliers at the same time.\n",
    "- I performed Random Forest Imputation to change 0s and outliers (Over 74)"
   ]
  },
  {
   "cell_type": "markdown",
   "id": "5b617868",
   "metadata": {},
   "source": [
    "### Why Use **Light Gradient-Boosting Machine** (**LigthGBM**) for Outlier Replacement\n",
    "- **High Accuracy**: Captures complex patterns and non-linear relationships.\n",
    "- **Efficiency**: Fast training and scalable for large datasets.\n",
    "- **Built-in Handling of Missing Values**: Natively manages missing data.\n",
    "- **Regularization**: Prevents overfitting."
   ]
  },
  {
   "cell_type": "code",
   "execution_count": 48,
   "id": "65a53ea0",
   "metadata": {},
   "outputs": [],
   "source": [
    "# FUNCTION FOR OUTLIER REPLACEMENT USING LIGHTGBM\n",
    "def lightgbm_imputation(dataframe, feature):\n",
    "    df_copy = dataframe.copy()\n",
    "    train_data = df_copy[df_copy[feature].notnull()]\n",
    "    test_data = df_copy[df_copy[feature].isnull()]\n",
    "\n",
    "    X_train = train_data.drop([feature], axis=1)\n",
    "    y_train = train_data[feature]\n",
    "    X_test = test_data.drop([feature], axis=1)\n",
    "\n",
    "    train_dataset = lgb.Dataset(data=X_train, label=y_train)\n",
    "\n",
    "    params = {\n",
    "        'objective': 'regression',\n",
    "        'metric': 'rmse', # ROOT MEAN SQUARED ERROR\n",
    "        'boosting_type': 'gbdt',\n",
    "        'verbose': -1,\n",
    "    }\n",
    "\n",
    "    model = lgb.train(params, train_dataset, num_boost_round=100)\n",
    "\n",
    "    predictions = model.predict(X_test)\n",
    "\n",
    "    df_copy.loc[df_copy[feature].isnull(), feature] = predictions\n",
    "\n",
    "    return df_copy"
   ]
  },
  {
   "cell_type": "code",
   "execution_count": 49,
   "id": "8cbc22d7",
   "metadata": {},
   "outputs": [],
   "source": [
    "# CHANGE 0s AND OUTLIERS INTO NULL VALUES\n",
    "df_clean_v4['Age'] = df_clean_v4['Age'].apply(lambda x: np.nan if x==0 or x>74 else x)"
   ]
  },
  {
   "cell_type": "code",
   "execution_count": 50,
   "id": "671d20ac",
   "metadata": {},
   "outputs": [],
   "source": [
    "# APPLY LIGHTGBM IMPUTATION\n",
    "df_imputed = lightgbm_imputation(df_clean_v4, 'Age')"
   ]
  },
  {
   "cell_type": "code",
   "execution_count": 51,
   "id": "b72f3dff",
   "metadata": {},
   "outputs": [],
   "source": [
    "# ROUND UP FLOATS\n",
    "df_imputed['Age'] = df_imputed['Age'].apply(lambda x: round(x))"
   ]
  },
  {
   "cell_type": "code",
   "execution_count": 52,
   "id": "800d3270",
   "metadata": {},
   "outputs": [],
   "source": [
    "# ORGANIZE AGES IN GROUPS AS IT WAS BACK IN 'AgePolicyHolder'\n",
    "def categorize_age(age):\n",
    "    if age <= 20:\n",
    "        return 0\n",
    "    elif age <= 40:\n",
    "        return 1\n",
    "    elif age <= 65:\n",
    "        return 2\n",
    "    else:\n",
    "        return 3\n"
   ]
  },
  {
   "cell_type": "code",
   "execution_count": 53,
   "id": "d850b26a",
   "metadata": {},
   "outputs": [],
   "source": [
    "df_imputed['Age'] = df_imputed['Age'].apply(categorize_age)"
   ]
  },
  {
   "cell_type": "code",
   "execution_count": 54,
   "id": "1b560e02",
   "metadata": {},
   "outputs": [
    {
     "data": {
      "text/plain": [
       "(15420, 101)"
      ]
     },
     "execution_count": 54,
     "metadata": {},
     "output_type": "execute_result"
    }
   ],
   "source": [
    "df_clean_v5 = df_imputed.copy()\n",
    "df_clean_v5.shape"
   ]
  },
  {
   "cell_type": "markdown",
   "id": "3c010b13",
   "metadata": {},
   "source": [
    "# ⚙️04. SMOTE Oversampling - Synthetic Minority Oversampling Technique⚙️"
   ]
  },
  {
   "cell_type": "markdown",
   "id": "64ba5b66",
   "metadata": {},
   "source": [
    "The **Synthetic Minority Over-sampling Technique (SMOTE)** is a method used in machine learning to address the issue of **imbalanced datasets**. Imbalanced datasets are common in classification problems, especially **Fraud Detection datasets**, where one class (often the minority class) has significantly fewer instances than the other class(es). SMOTE aims to balance the class distribution by generating synthetic examples from the minority class."
   ]
  },
  {
   "cell_type": "code",
   "execution_count": 55,
   "id": "571e8e73",
   "metadata": {},
   "outputs": [],
   "source": [
    "X = df_clean_v5.drop('FraudFound_P', axis=1)\n",
    "y = df_clean_v5['FraudFound_P']\n",
    "\n",
    "X_train, X_test, y_train, y_test = train_test_split(X, y, test_size=.2, random_state=42)"
   ]
  },
  {
   "cell_type": "code",
   "execution_count": 56,
   "id": "20d8299c",
   "metadata": {},
   "outputs": [
    {
     "name": "stdout",
     "output_type": "stream",
     "text": [
      "Before SMOTE:  (12336, 100) (12336,)\n",
      "After SMOTE:  (23220, 100) (23220,)\n",
      "\n",
      "Before SMOTE Label Distribution:  FraudFound_P\n",
      "0    11610\n",
      "1      726\n",
      "Name: count, dtype: int64\n",
      "After SMOTE Label Distribution:  FraudFound_P\n",
      "0    11610\n",
      "1    11610\n",
      "Name: count, dtype: int64\n"
     ]
    }
   ],
   "source": [
    "smote = SMOTE(random_state=0)\n",
    "X_train_over, y_train_over = smote.fit_resample(X_train, y_train)\n",
    "\n",
    "print('Before SMOTE: ', X_train.shape, y_train.shape)\n",
    "print('After SMOTE: ', X_train_over.shape, y_train_over.shape, end='\\n\\n')\n",
    "print('Before SMOTE Label Distribution: ', pd.Series( y_train).value_counts())\n",
    "print('After SMOTE Label Distribution: ', pd.Series(y_train_over).value_counts())\n"
   ]
  },
  {
   "cell_type": "code",
   "execution_count": 57,
   "id": "b07b8ad6",
   "metadata": {},
   "outputs": [
    {
     "data": {
      "text/plain": [
       "(23220, 101)"
      ]
     },
     "execution_count": 57,
     "metadata": {},
     "output_type": "execute_result"
    }
   ],
   "source": [
    "df_smote = pd.concat([X_train_over, y_train_over], axis=1)\n",
    "df_smote.shape"
   ]
  },
  {
   "cell_type": "markdown",
   "id": "0badeaf1",
   "metadata": {},
   "source": [
    "Now we have a **Balanced Dataset**!"
   ]
  },
  {
   "cell_type": "markdown",
   "id": "f8a8dfd6",
   "metadata": {},
   "source": [
    "# ✅06. RFECV Feature Selection - Recursive Feature Elimination Cross Validation (+ Variance Threshold Method)✅"
   ]
  },
  {
   "cell_type": "markdown",
   "id": "28f00c80",
   "metadata": {},
   "source": [
    "What is Recursive Feature Elimination Cross Validation (**RFECV**)?\n",
    "\n",
    "**Recursive Feature Elimination Cross Validation** (**RFECV**) is a feature selection method that recursively removes less important features based on a specified estimator's performance. It combines the process of Recursive **Feature Elimination** (**RFE**) with **Cross-Validation** (**CV**) to determine the optimal number of features that yield the best model performance.\n",
    "\n",
    "It is Recursive because they took the following approach:\n",
    "1. Train a ML model;\n",
    "2. Obtain feature importance;\n",
    "3. Remove least important feature(s) based on a specified performance measure;\n",
    "4. Re-Train ML model with remaining features;"
   ]
  },
  {
   "cell_type": "code",
   "execution_count": 58,
   "id": "fe0829a4",
   "metadata": {},
   "outputs": [
    {
     "name": "stdout",
     "output_type": "stream",
     "text": [
      "(23220, 100) (23220,)\n"
     ]
    }
   ],
   "source": [
    "X_smote = df_smote.drop('FraudFound_P', axis=1)\n",
    "y_smote = df_smote['FraudFound_P']\n",
    "print(X_smote.shape, y_smote.shape)"
   ]
  },
  {
   "cell_type": "markdown",
   "id": "fef90878",
   "metadata": {},
   "source": [
    "Before moving forward to the RFECV, I performed Pre-feature-selection using **VarianceThreshold**\n",
    "\n",
    "**VarianceThreshold** is a feature selection method that removes features with low variance. Features with variance below a specified threshold are considered to have little informational value because they exhibit little variability across samples.\n",
    "\n",
    "- **Reduce noise**: Eliminates features that do not vary much, which are less likely to be informative.\n",
    "- **Simplifies the model**: Reduces the number of features, making the model simpler and faster. (This is the reason I performed this before RFECV!)\n",
    "- **Prevents overfitting**: Helps in reducing the risk of overfitting by removing uninformative features."
   ]
  },
  {
   "cell_type": "code",
   "execution_count": 59,
   "id": "3e29e9e6",
   "metadata": {},
   "outputs": [
    {
     "data": {
      "text/plain": [
       "(23220, 76)"
      ]
     },
     "execution_count": 59,
     "metadata": {},
     "output_type": "execute_result"
    }
   ],
   "source": [
    "# VarianceThreshold\n",
    "selector = VarianceThreshold(threshold=0.01) # The larger the threshold, the more features are eliminated.\n",
    "X_reduced = selector.fit_transform(X_smote)\n",
    "X_reduced.shape"
   ]
  },
  {
   "cell_type": "code",
   "execution_count": 60,
   "id": "6e8ca8ca",
   "metadata": {},
   "outputs": [],
   "source": [
    "selected_feature_indices = selector.get_support(indices=True)\n",
    "selected_feature_names = X_smote.columns[selected_feature_indices]\n",
    "X_reduced = pd.DataFrame(X_reduced, columns=selected_feature_names)"
   ]
  },
  {
   "cell_type": "code",
   "execution_count": 61,
   "id": "dd78bb6b",
   "metadata": {},
   "outputs": [
    {
     "name": "stdout",
     "output_type": "stream",
     "text": [
      "Features to drop:  24 ['WitnessPresent', 'AgentType', 'Make_BMW', 'Make_Dodge', 'Make_Jaguar', 'Make_Mercury', 'Make_Nisson', 'Make_Saab', 'Make_Saturn', 'MaritalStatus_Divorced', 'MaritalStatus_Widow', 'PolicyType_Sport - All Perils', 'PolicyType_Utility - Collision', 'PolicyType_Utility - Liability', 'Deductible_300', 'Days_Policy_Accident_1 to 7', 'Days_Policy_Accident_15 to 30', 'Days_Policy_Accident_8 to 15', 'Days_Policy_Accident_none', 'Days_Policy_Claim_15 to 30', 'Days_Policy_Claim_8 to 15', 'Days_Policy_Claim_more than 30', 'AddressChange_Claim_1 year', 'NumberOfCars_5 to 8']\n"
     ]
    }
   ],
   "source": [
    "drop_features = [s for s in X_smote.columns if s not in X_reduced.columns]                  # store common elements\n",
    "print(\"Features to drop: \", len(drop_features), drop_features)      "
   ]
  },
  {
   "cell_type": "markdown",
   "id": "9ab7d63c",
   "metadata": {},
   "source": [
    "Starting **RFECV** method:"
   ]
  },
  {
   "cell_type": "code",
   "execution_count": 62,
   "id": "234f2d4e",
   "metadata": {},
   "outputs": [],
   "source": [
    "# LightGBM\n",
    "lightgbm_model = lgb.LGBMClassifier(n_estimators=100, learning_rate=0.1, random_state=42, verbose=-1)"
   ]
  },
  {
   "cell_type": "markdown",
   "id": "8c6d1234",
   "metadata": {},
   "source": [
    "I used **ROC_AUC** as a scoring parameter because, in fraud detection, it is important to consider both accuracy and recall. For more details about scoring metrics, please refer to the following link: https://www.v7labs.com/blog/f1-score-guide"
   ]
  },
  {
   "cell_type": "code",
   "execution_count": 63,
   "id": "a2d2e3e6",
   "metadata": {},
   "outputs": [
    {
     "data": {
      "text/html": [
       "<style>#sk-container-id-1 {\n",
       "  /* Definition of color scheme common for light and dark mode */\n",
       "  --sklearn-color-text: black;\n",
       "  --sklearn-color-line: gray;\n",
       "  /* Definition of color scheme for unfitted estimators */\n",
       "  --sklearn-color-unfitted-level-0: #fff5e6;\n",
       "  --sklearn-color-unfitted-level-1: #f6e4d2;\n",
       "  --sklearn-color-unfitted-level-2: #ffe0b3;\n",
       "  --sklearn-color-unfitted-level-3: chocolate;\n",
       "  /* Definition of color scheme for fitted estimators */\n",
       "  --sklearn-color-fitted-level-0: #f0f8ff;\n",
       "  --sklearn-color-fitted-level-1: #d4ebff;\n",
       "  --sklearn-color-fitted-level-2: #b3dbfd;\n",
       "  --sklearn-color-fitted-level-3: cornflowerblue;\n",
       "\n",
       "  /* Specific color for light theme */\n",
       "  --sklearn-color-text-on-default-background: var(--sg-text-color, var(--theme-code-foreground, var(--jp-content-font-color1, black)));\n",
       "  --sklearn-color-background: var(--sg-background-color, var(--theme-background, var(--jp-layout-color0, white)));\n",
       "  --sklearn-color-border-box: var(--sg-text-color, var(--theme-code-foreground, var(--jp-content-font-color1, black)));\n",
       "  --sklearn-color-icon: #696969;\n",
       "\n",
       "  @media (prefers-color-scheme: dark) {\n",
       "    /* Redefinition of color scheme for dark theme */\n",
       "    --sklearn-color-text-on-default-background: var(--sg-text-color, var(--theme-code-foreground, var(--jp-content-font-color1, white)));\n",
       "    --sklearn-color-background: var(--sg-background-color, var(--theme-background, var(--jp-layout-color0, #111)));\n",
       "    --sklearn-color-border-box: var(--sg-text-color, var(--theme-code-foreground, var(--jp-content-font-color1, white)));\n",
       "    --sklearn-color-icon: #878787;\n",
       "  }\n",
       "}\n",
       "\n",
       "#sk-container-id-1 {\n",
       "  color: var(--sklearn-color-text);\n",
       "}\n",
       "\n",
       "#sk-container-id-1 pre {\n",
       "  padding: 0;\n",
       "}\n",
       "\n",
       "#sk-container-id-1 input.sk-hidden--visually {\n",
       "  border: 0;\n",
       "  clip: rect(1px 1px 1px 1px);\n",
       "  clip: rect(1px, 1px, 1px, 1px);\n",
       "  height: 1px;\n",
       "  margin: -1px;\n",
       "  overflow: hidden;\n",
       "  padding: 0;\n",
       "  position: absolute;\n",
       "  width: 1px;\n",
       "}\n",
       "\n",
       "#sk-container-id-1 div.sk-dashed-wrapped {\n",
       "  border: 1px dashed var(--sklearn-color-line);\n",
       "  margin: 0 0.4em 0.5em 0.4em;\n",
       "  box-sizing: border-box;\n",
       "  padding-bottom: 0.4em;\n",
       "  background-color: var(--sklearn-color-background);\n",
       "}\n",
       "\n",
       "#sk-container-id-1 div.sk-container {\n",
       "  /* jupyter's `normalize.less` sets `[hidden] { display: none; }`\n",
       "     but bootstrap.min.css set `[hidden] { display: none !important; }`\n",
       "     so we also need the `!important` here to be able to override the\n",
       "     default hidden behavior on the sphinx rendered scikit-learn.org.\n",
       "     See: https://github.com/scikit-learn/scikit-learn/issues/21755 */\n",
       "  display: inline-block !important;\n",
       "  position: relative;\n",
       "}\n",
       "\n",
       "#sk-container-id-1 div.sk-text-repr-fallback {\n",
       "  display: none;\n",
       "}\n",
       "\n",
       "div.sk-parallel-item,\n",
       "div.sk-serial,\n",
       "div.sk-item {\n",
       "  /* draw centered vertical line to link estimators */\n",
       "  background-image: linear-gradient(var(--sklearn-color-text-on-default-background), var(--sklearn-color-text-on-default-background));\n",
       "  background-size: 2px 100%;\n",
       "  background-repeat: no-repeat;\n",
       "  background-position: center center;\n",
       "}\n",
       "\n",
       "/* Parallel-specific style estimator block */\n",
       "\n",
       "#sk-container-id-1 div.sk-parallel-item::after {\n",
       "  content: \"\";\n",
       "  width: 100%;\n",
       "  border-bottom: 2px solid var(--sklearn-color-text-on-default-background);\n",
       "  flex-grow: 1;\n",
       "}\n",
       "\n",
       "#sk-container-id-1 div.sk-parallel {\n",
       "  display: flex;\n",
       "  align-items: stretch;\n",
       "  justify-content: center;\n",
       "  background-color: var(--sklearn-color-background);\n",
       "  position: relative;\n",
       "}\n",
       "\n",
       "#sk-container-id-1 div.sk-parallel-item {\n",
       "  display: flex;\n",
       "  flex-direction: column;\n",
       "}\n",
       "\n",
       "#sk-container-id-1 div.sk-parallel-item:first-child::after {\n",
       "  align-self: flex-end;\n",
       "  width: 50%;\n",
       "}\n",
       "\n",
       "#sk-container-id-1 div.sk-parallel-item:last-child::after {\n",
       "  align-self: flex-start;\n",
       "  width: 50%;\n",
       "}\n",
       "\n",
       "#sk-container-id-1 div.sk-parallel-item:only-child::after {\n",
       "  width: 0;\n",
       "}\n",
       "\n",
       "/* Serial-specific style estimator block */\n",
       "\n",
       "#sk-container-id-1 div.sk-serial {\n",
       "  display: flex;\n",
       "  flex-direction: column;\n",
       "  align-items: center;\n",
       "  background-color: var(--sklearn-color-background);\n",
       "  padding-right: 1em;\n",
       "  padding-left: 1em;\n",
       "}\n",
       "\n",
       "\n",
       "/* Toggleable style: style used for estimator/Pipeline/ColumnTransformer box that is\n",
       "clickable and can be expanded/collapsed.\n",
       "- Pipeline and ColumnTransformer use this feature and define the default style\n",
       "- Estimators will overwrite some part of the style using the `sk-estimator` class\n",
       "*/\n",
       "\n",
       "/* Pipeline and ColumnTransformer style (default) */\n",
       "\n",
       "#sk-container-id-1 div.sk-toggleable {\n",
       "  /* Default theme specific background. It is overwritten whether we have a\n",
       "  specific estimator or a Pipeline/ColumnTransformer */\n",
       "  background-color: var(--sklearn-color-background);\n",
       "}\n",
       "\n",
       "/* Toggleable label */\n",
       "#sk-container-id-1 label.sk-toggleable__label {\n",
       "  cursor: pointer;\n",
       "  display: block;\n",
       "  width: 100%;\n",
       "  margin-bottom: 0;\n",
       "  padding: 0.5em;\n",
       "  box-sizing: border-box;\n",
       "  text-align: center;\n",
       "}\n",
       "\n",
       "#sk-container-id-1 label.sk-toggleable__label-arrow:before {\n",
       "  /* Arrow on the left of the label */\n",
       "  content: \"▸\";\n",
       "  float: left;\n",
       "  margin-right: 0.25em;\n",
       "  color: var(--sklearn-color-icon);\n",
       "}\n",
       "\n",
       "#sk-container-id-1 label.sk-toggleable__label-arrow:hover:before {\n",
       "  color: var(--sklearn-color-text);\n",
       "}\n",
       "\n",
       "/* Toggleable content - dropdown */\n",
       "\n",
       "#sk-container-id-1 div.sk-toggleable__content {\n",
       "  max-height: 0;\n",
       "  max-width: 0;\n",
       "  overflow: hidden;\n",
       "  text-align: left;\n",
       "  /* unfitted */\n",
       "  background-color: var(--sklearn-color-unfitted-level-0);\n",
       "}\n",
       "\n",
       "#sk-container-id-1 div.sk-toggleable__content.fitted {\n",
       "  /* fitted */\n",
       "  background-color: var(--sklearn-color-fitted-level-0);\n",
       "}\n",
       "\n",
       "#sk-container-id-1 div.sk-toggleable__content pre {\n",
       "  margin: 0.2em;\n",
       "  border-radius: 0.25em;\n",
       "  color: var(--sklearn-color-text);\n",
       "  /* unfitted */\n",
       "  background-color: var(--sklearn-color-unfitted-level-0);\n",
       "}\n",
       "\n",
       "#sk-container-id-1 div.sk-toggleable__content.fitted pre {\n",
       "  /* unfitted */\n",
       "  background-color: var(--sklearn-color-fitted-level-0);\n",
       "}\n",
       "\n",
       "#sk-container-id-1 input.sk-toggleable__control:checked~div.sk-toggleable__content {\n",
       "  /* Expand drop-down */\n",
       "  max-height: 200px;\n",
       "  max-width: 100%;\n",
       "  overflow: auto;\n",
       "}\n",
       "\n",
       "#sk-container-id-1 input.sk-toggleable__control:checked~label.sk-toggleable__label-arrow:before {\n",
       "  content: \"▾\";\n",
       "}\n",
       "\n",
       "/* Pipeline/ColumnTransformer-specific style */\n",
       "\n",
       "#sk-container-id-1 div.sk-label input.sk-toggleable__control:checked~label.sk-toggleable__label {\n",
       "  color: var(--sklearn-color-text);\n",
       "  background-color: var(--sklearn-color-unfitted-level-2);\n",
       "}\n",
       "\n",
       "#sk-container-id-1 div.sk-label.fitted input.sk-toggleable__control:checked~label.sk-toggleable__label {\n",
       "  background-color: var(--sklearn-color-fitted-level-2);\n",
       "}\n",
       "\n",
       "/* Estimator-specific style */\n",
       "\n",
       "/* Colorize estimator box */\n",
       "#sk-container-id-1 div.sk-estimator input.sk-toggleable__control:checked~label.sk-toggleable__label {\n",
       "  /* unfitted */\n",
       "  background-color: var(--sklearn-color-unfitted-level-2);\n",
       "}\n",
       "\n",
       "#sk-container-id-1 div.sk-estimator.fitted input.sk-toggleable__control:checked~label.sk-toggleable__label {\n",
       "  /* fitted */\n",
       "  background-color: var(--sklearn-color-fitted-level-2);\n",
       "}\n",
       "\n",
       "#sk-container-id-1 div.sk-label label.sk-toggleable__label,\n",
       "#sk-container-id-1 div.sk-label label {\n",
       "  /* The background is the default theme color */\n",
       "  color: var(--sklearn-color-text-on-default-background);\n",
       "}\n",
       "\n",
       "/* On hover, darken the color of the background */\n",
       "#sk-container-id-1 div.sk-label:hover label.sk-toggleable__label {\n",
       "  color: var(--sklearn-color-text);\n",
       "  background-color: var(--sklearn-color-unfitted-level-2);\n",
       "}\n",
       "\n",
       "/* Label box, darken color on hover, fitted */\n",
       "#sk-container-id-1 div.sk-label.fitted:hover label.sk-toggleable__label.fitted {\n",
       "  color: var(--sklearn-color-text);\n",
       "  background-color: var(--sklearn-color-fitted-level-2);\n",
       "}\n",
       "\n",
       "/* Estimator label */\n",
       "\n",
       "#sk-container-id-1 div.sk-label label {\n",
       "  font-family: monospace;\n",
       "  font-weight: bold;\n",
       "  display: inline-block;\n",
       "  line-height: 1.2em;\n",
       "}\n",
       "\n",
       "#sk-container-id-1 div.sk-label-container {\n",
       "  text-align: center;\n",
       "}\n",
       "\n",
       "/* Estimator-specific */\n",
       "#sk-container-id-1 div.sk-estimator {\n",
       "  font-family: monospace;\n",
       "  border: 1px dotted var(--sklearn-color-border-box);\n",
       "  border-radius: 0.25em;\n",
       "  box-sizing: border-box;\n",
       "  margin-bottom: 0.5em;\n",
       "  /* unfitted */\n",
       "  background-color: var(--sklearn-color-unfitted-level-0);\n",
       "}\n",
       "\n",
       "#sk-container-id-1 div.sk-estimator.fitted {\n",
       "  /* fitted */\n",
       "  background-color: var(--sklearn-color-fitted-level-0);\n",
       "}\n",
       "\n",
       "/* on hover */\n",
       "#sk-container-id-1 div.sk-estimator:hover {\n",
       "  /* unfitted */\n",
       "  background-color: var(--sklearn-color-unfitted-level-2);\n",
       "}\n",
       "\n",
       "#sk-container-id-1 div.sk-estimator.fitted:hover {\n",
       "  /* fitted */\n",
       "  background-color: var(--sklearn-color-fitted-level-2);\n",
       "}\n",
       "\n",
       "/* Specification for estimator info (e.g. \"i\" and \"?\") */\n",
       "\n",
       "/* Common style for \"i\" and \"?\" */\n",
       "\n",
       ".sk-estimator-doc-link,\n",
       "a:link.sk-estimator-doc-link,\n",
       "a:visited.sk-estimator-doc-link {\n",
       "  float: right;\n",
       "  font-size: smaller;\n",
       "  line-height: 1em;\n",
       "  font-family: monospace;\n",
       "  background-color: var(--sklearn-color-background);\n",
       "  border-radius: 1em;\n",
       "  height: 1em;\n",
       "  width: 1em;\n",
       "  text-decoration: none !important;\n",
       "  margin-left: 1ex;\n",
       "  /* unfitted */\n",
       "  border: var(--sklearn-color-unfitted-level-1) 1pt solid;\n",
       "  color: var(--sklearn-color-unfitted-level-1);\n",
       "}\n",
       "\n",
       ".sk-estimator-doc-link.fitted,\n",
       "a:link.sk-estimator-doc-link.fitted,\n",
       "a:visited.sk-estimator-doc-link.fitted {\n",
       "  /* fitted */\n",
       "  border: var(--sklearn-color-fitted-level-1) 1pt solid;\n",
       "  color: var(--sklearn-color-fitted-level-1);\n",
       "}\n",
       "\n",
       "/* On hover */\n",
       "div.sk-estimator:hover .sk-estimator-doc-link:hover,\n",
       ".sk-estimator-doc-link:hover,\n",
       "div.sk-label-container:hover .sk-estimator-doc-link:hover,\n",
       ".sk-estimator-doc-link:hover {\n",
       "  /* unfitted */\n",
       "  background-color: var(--sklearn-color-unfitted-level-3);\n",
       "  color: var(--sklearn-color-background);\n",
       "  text-decoration: none;\n",
       "}\n",
       "\n",
       "div.sk-estimator.fitted:hover .sk-estimator-doc-link.fitted:hover,\n",
       ".sk-estimator-doc-link.fitted:hover,\n",
       "div.sk-label-container:hover .sk-estimator-doc-link.fitted:hover,\n",
       ".sk-estimator-doc-link.fitted:hover {\n",
       "  /* fitted */\n",
       "  background-color: var(--sklearn-color-fitted-level-3);\n",
       "  color: var(--sklearn-color-background);\n",
       "  text-decoration: none;\n",
       "}\n",
       "\n",
       "/* Span, style for the box shown on hovering the info icon */\n",
       ".sk-estimator-doc-link span {\n",
       "  display: none;\n",
       "  z-index: 9999;\n",
       "  position: relative;\n",
       "  font-weight: normal;\n",
       "  right: .2ex;\n",
       "  padding: .5ex;\n",
       "  margin: .5ex;\n",
       "  width: min-content;\n",
       "  min-width: 20ex;\n",
       "  max-width: 50ex;\n",
       "  color: var(--sklearn-color-text);\n",
       "  box-shadow: 2pt 2pt 4pt #999;\n",
       "  /* unfitted */\n",
       "  background: var(--sklearn-color-unfitted-level-0);\n",
       "  border: .5pt solid var(--sklearn-color-unfitted-level-3);\n",
       "}\n",
       "\n",
       ".sk-estimator-doc-link.fitted span {\n",
       "  /* fitted */\n",
       "  background: var(--sklearn-color-fitted-level-0);\n",
       "  border: var(--sklearn-color-fitted-level-3);\n",
       "}\n",
       "\n",
       ".sk-estimator-doc-link:hover span {\n",
       "  display: block;\n",
       "}\n",
       "\n",
       "/* \"?\"-specific style due to the `<a>` HTML tag */\n",
       "\n",
       "#sk-container-id-1 a.estimator_doc_link {\n",
       "  float: right;\n",
       "  font-size: 1rem;\n",
       "  line-height: 1em;\n",
       "  font-family: monospace;\n",
       "  background-color: var(--sklearn-color-background);\n",
       "  border-radius: 1rem;\n",
       "  height: 1rem;\n",
       "  width: 1rem;\n",
       "  text-decoration: none;\n",
       "  /* unfitted */\n",
       "  color: var(--sklearn-color-unfitted-level-1);\n",
       "  border: var(--sklearn-color-unfitted-level-1) 1pt solid;\n",
       "}\n",
       "\n",
       "#sk-container-id-1 a.estimator_doc_link.fitted {\n",
       "  /* fitted */\n",
       "  border: var(--sklearn-color-fitted-level-1) 1pt solid;\n",
       "  color: var(--sklearn-color-fitted-level-1);\n",
       "}\n",
       "\n",
       "/* On hover */\n",
       "#sk-container-id-1 a.estimator_doc_link:hover {\n",
       "  /* unfitted */\n",
       "  background-color: var(--sklearn-color-unfitted-level-3);\n",
       "  color: var(--sklearn-color-background);\n",
       "  text-decoration: none;\n",
       "}\n",
       "\n",
       "#sk-container-id-1 a.estimator_doc_link.fitted:hover {\n",
       "  /* fitted */\n",
       "  background-color: var(--sklearn-color-fitted-level-3);\n",
       "}\n",
       "</style><div id=\"sk-container-id-1\" class=\"sk-top-container\"><div class=\"sk-text-repr-fallback\"><pre>RFECV(cv=StratifiedKFold(n_splits=5, random_state=None, shuffle=False),\n",
       "      estimator=LGBMClassifier(random_state=42, verbose=-1), n_jobs=-1,\n",
       "      scoring=&#x27;roc_auc&#x27;)</pre><b>In a Jupyter environment, please rerun this cell to show the HTML representation or trust the notebook. <br />On GitHub, the HTML representation is unable to render, please try loading this page with nbviewer.org.</b></div><div class=\"sk-container\" hidden><div class=\"sk-item sk-dashed-wrapped\"><div class=\"sk-label-container\"><div class=\"sk-label fitted sk-toggleable\"><input class=\"sk-toggleable__control sk-hidden--visually\" id=\"sk-estimator-id-1\" type=\"checkbox\" ><label for=\"sk-estimator-id-1\" class=\"sk-toggleable__label fitted sk-toggleable__label-arrow fitted\">&nbsp;&nbsp;RFECV<a class=\"sk-estimator-doc-link fitted\" rel=\"noreferrer\" target=\"_blank\" href=\"https://scikit-learn.org/1.5/modules/generated/sklearn.feature_selection.RFECV.html\">?<span>Documentation for RFECV</span></a><span class=\"sk-estimator-doc-link fitted\">i<span>Fitted</span></span></label><div class=\"sk-toggleable__content fitted\"><pre>RFECV(cv=StratifiedKFold(n_splits=5, random_state=None, shuffle=False),\n",
       "      estimator=LGBMClassifier(random_state=42, verbose=-1), n_jobs=-1,\n",
       "      scoring=&#x27;roc_auc&#x27;)</pre></div> </div></div><div class=\"sk-parallel\"><div class=\"sk-parallel-item\"><div class=\"sk-item\"><div class=\"sk-label-container\"><div class=\"sk-label fitted sk-toggleable\"><input class=\"sk-toggleable__control sk-hidden--visually\" id=\"sk-estimator-id-2\" type=\"checkbox\" ><label for=\"sk-estimator-id-2\" class=\"sk-toggleable__label fitted sk-toggleable__label-arrow fitted\">estimator: LGBMClassifier</label><div class=\"sk-toggleable__content fitted\"><pre>LGBMClassifier(random_state=42, verbose=-1)</pre></div> </div></div><div class=\"sk-serial\"><div class=\"sk-item\"><div class=\"sk-estimator fitted sk-toggleable\"><input class=\"sk-toggleable__control sk-hidden--visually\" id=\"sk-estimator-id-3\" type=\"checkbox\" ><label for=\"sk-estimator-id-3\" class=\"sk-toggleable__label fitted sk-toggleable__label-arrow fitted\">LGBMClassifier</label><div class=\"sk-toggleable__content fitted\"><pre>LGBMClassifier(random_state=42, verbose=-1)</pre></div> </div></div></div></div></div></div></div></div></div>"
      ],
      "text/plain": [
       "RFECV(cv=StratifiedKFold(n_splits=5, random_state=None, shuffle=False),\n",
       "      estimator=LGBMClassifier(random_state=42, verbose=-1), n_jobs=-1,\n",
       "      scoring='roc_auc')"
      ]
     },
     "execution_count": 63,
     "metadata": {},
     "output_type": "execute_result"
    }
   ],
   "source": [
    "rfecv = RFECV(estimator=lightgbm_model ,step=1, cv=StratifiedKFold(5), scoring='roc_auc', n_jobs=-1)\n",
    "rfecv.fit(X_reduced, y_smote)"
   ]
  },
  {
   "cell_type": "code",
   "execution_count": 64,
   "id": "caad3af6",
   "metadata": {},
   "outputs": [
    {
     "name": "stdout",
     "output_type": "stream",
     "text": [
      "Optimal number of features:  72\n"
     ]
    }
   ],
   "source": [
    "print('Optimal number of features: ', rfecv.n_features_)"
   ]
  },
  {
   "cell_type": "code",
   "execution_count": 65,
   "id": "a9213e6c",
   "metadata": {},
   "outputs": [],
   "source": [
    "X_selected = rfecv.transform(X_reduced)"
   ]
  },
  {
   "cell_type": "code",
   "execution_count": 66,
   "id": "dc9faf14",
   "metadata": {},
   "outputs": [],
   "source": [
    "selected_feature_indices = np.where(rfecv.support_)[0]\n",
    "selected_feature_names = X_reduced.columns[selected_feature_indices]\n",
    "X_rfecv = pd.DataFrame(X_selected, columns=selected_feature_names)"
   ]
  },
  {
   "cell_type": "markdown",
   "id": "af9c54fa",
   "metadata": {},
   "source": [
    "# 🤖06. Modeling - Optimization using Optuna🤖"
   ]
  },
  {
   "cell_type": "markdown",
   "id": "94304ca1",
   "metadata": {},
   "source": [
    "**What is Optuna?**\n",
    "\n",
    "Optuna is an automatic hyperparameter optimization framework designed to enhance the performance of machine learning models. It offers a flexible and efficient approach to finding the best hyperparameters by using techniques like **Bayesian Optimization**. Optuna allows users to define an objective function, which it then optimizes through a series of trials, intelligently searching the hyperparameter space."
   ]
  },
  {
   "cell_type": "markdown",
   "id": "762a1c15",
   "metadata": {},
   "source": [
    "In summary, **Optuna** is a **more advanced** and efficient tool for hyperparameter optimization compared to **GridSearch**, offering flexibility, intelligent sampling, and resource-saving features like pruning."
   ]
  },
  {
   "cell_type": "markdown",
   "id": "4af9afd2",
   "metadata": {},
   "source": [
    "***Algorithms:***\n",
    "\n",
    "- ***Logistics Regression:*** A linear model for binary classification that predicts probabilities.\n",
    "- ***Support Vector Machine (SVM):*** Classifies data by finding the hyperplane that maximizes the margin between classes.\n",
    "- ***K-Nearest Neighbors (KNN):*** Predicts the class based on the majority class among the k nearest neighbors.\n",
    "- ***RandomForest:*** An ensemble of decision trees that improves classification accuracy by averaging multiple trees.\n",
    "- ***LightGBM:*** A gradient boosting framework that uses tree-based learning algorithms, optimized for speed and efficiency.\n",
    "- ***CatBoost:*** A gradient boosting algorithm that handles categorical features automatically, designed for high performance and accuracy."
   ]
  },
  {
   "cell_type": "code",
   "execution_count": 67,
   "id": "255d2dfc",
   "metadata": {},
   "outputs": [],
   "source": [
    "rfecv_cols = X_rfecv.columns\n",
    "X_rfecv_test = X_test[rfecv_cols]"
   ]
  },
  {
   "cell_type": "markdown",
   "id": "92689a20",
   "metadata": {},
   "source": [
    "### 01) Modeling - Optuna "
   ]
  },
  {
   "cell_type": "code",
   "execution_count": 74,
   "id": "420434e9",
   "metadata": {},
   "outputs": [],
   "source": [
    "# Function04: Objective\n",
    "def objective(trial):\n",
    "    classifier_name = trial.suggest_categorical('classifier', [\n",
    "        'LogisticRegression', 'SVM', 'KNeighbors', 'RandomForest', 'LightGBM'\n",
    "    ])\n",
    "    \n",
    "    if classifier_name == 'LogisticRegression':\n",
    "        C = trial.suggest_float('lr_C', 0.1, 10)\n",
    "        solver = trial.suggest_categorical('lr_solver', ['liblinear'])\n",
    "        classifier_obj = LogisticRegression(C=C, solver=solver)\n",
    "    \n",
    "    elif classifier_name == 'SVM':\n",
    "        C = trial.suggest_float('svm_C', 0.1, 10)\n",
    "        kernel = trial.suggest_categorical('svm_kernel', ['linear', 'rbf'])\n",
    "        classifier_obj = SVC(C=C, kernel=kernel, probability=True)\n",
    "    \n",
    "    elif classifier_name == 'KNeighbors':\n",
    "        n_neighbors = trial.suggest_int('kn_n_neighbors', 3, 7)\n",
    "        classifier_obj = KNeighborsClassifier(n_neighbors=n_neighbors)\n",
    "    \n",
    "    elif classifier_name == 'RandomForest':\n",
    "        n_estimators = trial.suggest_int('rf_n_estimators', 100, 200)\n",
    "        max_depth = trial.suggest_categorical('rf_max_depth', [10, 20, None])\n",
    "        classifier_obj = RandomForestClassifier(n_estimators=n_estimators, max_depth=max_depth)\n",
    "    \n",
    "    elif classifier_name == 'LightGBM':\n",
    "        num_leaves = trial.suggest_int('lgb_num_leaves', 31, 50)\n",
    "        learning_rate = trial.suggest_float('lgb_learning_rate', 0.01, 0.2)\n",
    "        n_estimators = trial.suggest_int('lgb_n_estimators', 100, 200)\n",
    "        classifier_obj = lgb.LGBMClassifier(num_leaves=num_leaves, learning_rate=learning_rate, n_estimators=n_estimators, verbose=-1)\n",
    "    \n",
    "    classifier_obj.fit(X_rfecv, y_smote)\n",
    "    y_prob = classifier_obj.predict_proba(X_rfecv_test)[:, 1]\n",
    "    \n",
    "    # Threshold optimization\n",
    "    thresholds = np.arange(0.1, 0.9, 0.01)\n",
    "    best_threshold = 0.5\n",
    "    best_score = 0.0\n",
    "    \n",
    "    for threshold in thresholds:\n",
    "        y_pred = (y_prob >= threshold).astype(int)\n",
    "        score = f1_score(y_test, y_pred)\n",
    "        if score > best_score:\n",
    "            best_score = score\n",
    "            best_threshold = threshold\n",
    "    \n",
    "    trial.set_user_attr('best_threshold', best_threshold)\n",
    "    trial.set_user_attr('classifier_obj', classifier_obj)\n",
    "    return roc_auc_score(y_test, (y_prob >= best_threshold).astype(int))"
   ]
  },
  {
   "cell_type": "code",
   "execution_count": 75,
   "id": "08d35c63",
   "metadata": {},
   "outputs": [
    {
     "name": "stderr",
     "output_type": "stream",
     "text": [
      "[I 2024-07-10 18:11:04,079] A new study created in memory with name: no-name-0880c120-e258-4162-8c9c-5979a7eedb26\n",
      "[I 2024-07-10 18:11:06,254] Trial 0 finished with value: 0.6725334468007294 and parameters: {'classifier': 'RandomForest', 'rf_n_estimators': 122, 'rf_max_depth': 20}. Best is trial 0 with value: 0.6725334468007294.\n",
      "[I 2024-07-10 18:11:06,668] Trial 1 finished with value: 0.73344099841931 and parameters: {'classifier': 'LightGBM', 'lgb_num_leaves': 47, 'lgb_learning_rate': 0.0907842200561203, 'lgb_n_estimators': 138}. Best is trial 1 with value: 0.73344099841931.\n",
      "[I 2024-07-10 18:11:08,937] Trial 2 finished with value: 0.7269072456785978 and parameters: {'classifier': 'RandomForest', 'rf_n_estimators': 123, 'rf_max_depth': 20}. Best is trial 1 with value: 0.73344099841931.\n",
      "[I 2024-07-10 18:11:44,976] Trial 3 finished with value: 0.6458516120751346 and parameters: {'classifier': 'SVM', 'svm_C': 7.467378095454768, 'svm_kernel': 'rbf'}. Best is trial 1 with value: 0.73344099841931.\n",
      "[I 2024-07-10 18:11:46,734] Trial 4 finished with value: 0.614157812282963 and parameters: {'classifier': 'KNeighbors', 'kn_n_neighbors': 6}. Best is trial 1 with value: 0.73344099841931.\n",
      "[I 2024-07-10 18:11:47,066] Trial 5 finished with value: 0.7052830911894559 and parameters: {'classifier': 'LogisticRegression', 'lr_C': 9.757018630736805, 'lr_solver': 'liblinear'}. Best is trial 1 with value: 0.73344099841931.\n",
      "[I 2024-07-10 18:11:47,427] Trial 6 finished with value: 0.7054562813522548 and parameters: {'classifier': 'LogisticRegression', 'lr_C': 9.834725198188144, 'lr_solver': 'liblinear'}. Best is trial 1 with value: 0.73344099841931.\n",
      "[I 2024-07-10 18:11:49,125] Trial 7 finished with value: 0.6078754929765674 and parameters: {'classifier': 'KNeighbors', 'kn_n_neighbors': 7}. Best is trial 1 with value: 0.73344099841931.\n",
      "[I 2024-07-10 18:11:51,650] Trial 8 finished with value: 0.7219445123334254 and parameters: {'classifier': 'RandomForest', 'rf_n_estimators': 137, 'rf_max_depth': 20}. Best is trial 1 with value: 0.73344099841931.\n",
      "[I 2024-07-10 18:12:36,522] Trial 9 finished with value: 0.49982680983720124 and parameters: {'classifier': 'SVM', 'svm_C': 2.2972704163826805, 'svm_kernel': 'linear'}. Best is trial 1 with value: 0.73344099841931.\n",
      "[I 2024-07-10 18:12:37,023] Trial 10 finished with value: 0.7029902995926075 and parameters: {'classifier': 'LightGBM', 'lgb_num_leaves': 47, 'lgb_learning_rate': 0.09424242304238864, 'lgb_n_estimators': 138}. Best is trial 1 with value: 0.73344099841931.\n",
      "[I 2024-07-10 18:12:37,744] Trial 11 finished with value: 0.7167197958993492 and parameters: {'classifier': 'LightGBM', 'lgb_num_leaves': 50, 'lgb_learning_rate': 0.016825773890391887, 'lgb_n_estimators': 184}. Best is trial 1 with value: 0.73344099841931.\n",
      "[I 2024-07-10 18:12:38,143] Trial 12 finished with value: 0.6781414673514564 and parameters: {'classifier': 'LightGBM', 'lgb_num_leaves': 33, 'lgb_learning_rate': 0.19935612442082964, 'lgb_n_estimators': 103}. Best is trial 1 with value: 0.73344099841931.\n",
      "[I 2024-07-10 18:12:43,161] Trial 13 finished with value: 0.6622141263391468 and parameters: {'classifier': 'RandomForest', 'rf_n_estimators': 200, 'rf_max_depth': None}. Best is trial 1 with value: 0.73344099841931.\n",
      "[I 2024-07-10 18:12:43,632] Trial 14 finished with value: 0.6730116978086609 and parameters: {'classifier': 'LightGBM', 'lgb_num_leaves': 41, 'lgb_learning_rate': 0.09798464436610087, 'lgb_n_estimators': 144}. Best is trial 1 with value: 0.73344099841931.\n",
      "[I 2024-07-10 18:12:45,162] Trial 15 finished with value: 0.6739664415487596 and parameters: {'classifier': 'RandomForest', 'rf_n_estimators': 111, 'rf_max_depth': 10}. Best is trial 1 with value: 0.73344099841931.\n",
      "[I 2024-07-10 18:12:45,656] Trial 16 finished with value: 0.7006913540305835 and parameters: {'classifier': 'LightGBM', 'lgb_num_leaves': 42, 'lgb_learning_rate': 0.03826439429973921, 'lgb_n_estimators': 113}. Best is trial 1 with value: 0.73344099841931.\n",
      "[I 2024-07-10 18:12:49,284] Trial 17 finished with value: 0.7109262772554721 and parameters: {'classifier': 'RandomForest', 'rf_n_estimators': 169, 'rf_max_depth': 20}. Best is trial 1 with value: 0.73344099841931.\n",
      "[I 2024-07-10 18:13:43,229] Trial 18 finished with value: 0.6342294092720915 and parameters: {'classifier': 'SVM', 'svm_C': 0.40603593787959014, 'svm_kernel': 'rbf'}. Best is trial 1 with value: 0.73344099841931.\n",
      "[I 2024-07-10 18:13:44,931] Trial 19 finished with value: 0.5901749308558055 and parameters: {'classifier': 'KNeighbors', 'kn_n_neighbors': 3}. Best is trial 1 with value: 0.73344099841931.\n",
      "[I 2024-07-10 18:13:45,283] Trial 20 finished with value: 0.6699892217695638 and parameters: {'classifier': 'LogisticRegression', 'lr_C': 0.36390651785409567, 'lr_solver': 'liblinear'}. Best is trial 1 with value: 0.73344099841931.\n",
      "[I 2024-07-10 18:13:48,196] Trial 21 finished with value: 0.7352080655625867 and parameters: {'classifier': 'RandomForest', 'rf_n_estimators': 140, 'rf_max_depth': 20}. Best is trial 21 with value: 0.7352080655625867.\n",
      "[I 2024-07-10 18:13:51,510] Trial 22 finished with value: 0.7188270894030477 and parameters: {'classifier': 'RandomForest', 'rf_n_estimators': 154, 'rf_max_depth': 20}. Best is trial 21 with value: 0.7352080655625867.\n",
      "[I 2024-07-10 18:13:54,211] Trial 23 finished with value: 0.7423501817178002 and parameters: {'classifier': 'RandomForest', 'rf_n_estimators': 134, 'rf_max_depth': 20}. Best is trial 23 with value: 0.7423501817178002.\n",
      "[I 2024-07-10 18:13:56,435] Trial 24 finished with value: 0.6679170937811544 and parameters: {'classifier': 'RandomForest', 'rf_n_estimators': 156, 'rf_max_depth': 10}. Best is trial 23 with value: 0.7423501817178002.\n",
      "[I 2024-07-10 18:13:56,966] Trial 25 finished with value: 0.6696613033394931 and parameters: {'classifier': 'LightGBM', 'lgb_num_leaves': 46, 'lgb_learning_rate': 0.1666655157876406, 'lgb_n_estimators': 179}. Best is trial 23 with value: 0.7423501817178002.\n",
      "[I 2024-07-10 18:14:00,460] Trial 26 finished with value: 0.6585296594747327 and parameters: {'classifier': 'RandomForest', 'rf_n_estimators': 141, 'rf_max_depth': None}. Best is trial 23 with value: 0.7423501817178002.\n",
      "[I 2024-07-10 18:14:03,891] Trial 27 finished with value: 0.6961637939371135 and parameters: {'classifier': 'RandomForest', 'rf_n_estimators': 174, 'rf_max_depth': 20}. Best is trial 23 with value: 0.7423501817178002.\n",
      "[I 2024-07-10 18:14:04,349] Trial 28 finished with value: 0.690306098227834 and parameters: {'classifier': 'LightGBM', 'lgb_num_leaves': 34, 'lgb_learning_rate': 0.12855791731430652, 'lgb_n_estimators': 157}. Best is trial 23 with value: 0.7423501817178002.\n",
      "[I 2024-07-10 18:14:06,489] Trial 29 finished with value: 0.7221177024962241 and parameters: {'classifier': 'RandomForest', 'rf_n_estimators': 103, 'rf_max_depth': 20}. Best is trial 23 with value: 0.7423501817178002.\n",
      "[I 2024-07-10 18:14:08,030] Trial 30 finished with value: 0.5901749308558055 and parameters: {'classifier': 'KNeighbors', 'kn_n_neighbors': 3}. Best is trial 23 with value: 0.7423501817178002.\n",
      "[I 2024-07-10 18:14:10,677] Trial 31 finished with value: 0.6945039816154686 and parameters: {'classifier': 'RandomForest', 'rf_n_estimators': 126, 'rf_max_depth': 20}. Best is trial 23 with value: 0.7423501817178002.\n",
      "[I 2024-07-10 18:14:13,306] Trial 32 finished with value: 0.722457928856646 and parameters: {'classifier': 'RandomForest', 'rf_n_estimators': 126, 'rf_max_depth': 20}. Best is trial 23 with value: 0.7423501817178002.\n",
      "[I 2024-07-10 18:14:16,293] Trial 33 finished with value: 0.6471114166603662 and parameters: {'classifier': 'RandomForest', 'rf_n_estimators': 136, 'rf_max_depth': 20}. Best is trial 23 with value: 0.7423501817178002.\n",
      "[I 2024-07-10 18:16:26,786] Trial 34 finished with value: 0.49982680983720124 and parameters: {'classifier': 'SVM', 'svm_C': 9.776763376299623, 'svm_kernel': 'linear'}. Best is trial 23 with value: 0.7423501817178002.\n",
      "[I 2024-07-10 18:16:27,200] Trial 35 finished with value: 0.6974420604178719 and parameters: {'classifier': 'LogisticRegression', 'lr_C': 2.839734419959051, 'lr_solver': 'liblinear'}. Best is trial 23 with value: 0.7423501817178002.\n",
      "[I 2024-07-10 18:16:29,569] Trial 36 finished with value: 0.7208992173914572 and parameters: {'classifier': 'RandomForest', 'rf_n_estimators': 117, 'rf_max_depth': 20}. Best is trial 23 with value: 0.7423501817178002.\n",
      "[I 2024-07-10 18:16:33,046] Trial 37 finished with value: 0.6238212958844038 and parameters: {'classifier': 'RandomForest', 'rf_n_estimators': 142, 'rf_max_depth': None}. Best is trial 23 with value: 0.7423501817178002.\n",
      "[I 2024-07-10 18:16:34,953] Trial 38 finished with value: 0.6206669491629728 and parameters: {'classifier': 'KNeighbors', 'kn_n_neighbors': 5}. Best is trial 23 with value: 0.7423501817178002.\n",
      "[I 2024-07-10 18:16:35,313] Trial 39 finished with value: 0.7106458322710417 and parameters: {'classifier': 'LogisticRegression', 'lr_C': 5.955137803451649, 'lr_solver': 'liblinear'}. Best is trial 23 with value: 0.7423501817178002.\n",
      "[I 2024-07-10 18:16:37,121] Trial 40 finished with value: 0.6981822945147071 and parameters: {'classifier': 'RandomForest', 'rf_n_estimators': 131, 'rf_max_depth': 10}. Best is trial 23 with value: 0.7423501817178002.\n",
      "[I 2024-07-10 18:16:39,868] Trial 41 finished with value: 0.6972152428442572 and parameters: {'classifier': 'RandomForest', 'rf_n_estimators': 122, 'rf_max_depth': 20}. Best is trial 23 with value: 0.7423501817178002.\n",
      "[I 2024-07-10 18:16:43,359] Trial 42 finished with value: 0.6893144306966816 and parameters: {'classifier': 'RandomForest', 'rf_n_estimators': 110, 'rf_max_depth': 20}. Best is trial 23 with value: 0.7423501817178002.\n",
      "[I 2024-07-10 18:17:38,861] Trial 43 finished with value: 0.6408352513191464 and parameters: {'classifier': 'SVM', 'svm_C': 4.7064145291483515, 'svm_kernel': 'rbf'}. Best is trial 23 with value: 0.7423501817178002.\n",
      "[I 2024-07-10 18:17:42,723] Trial 44 finished with value: 0.7422367729309929 and parameters: {'classifier': 'RandomForest', 'rf_n_estimators': 148, 'rf_max_depth': 20}. Best is trial 23 with value: 0.7423501817178002.\n",
      "[I 2024-07-10 18:17:43,264] Trial 45 finished with value: 0.6941162818094064 and parameters: {'classifier': 'LightGBM', 'lgb_num_leaves': 37, 'lgb_learning_rate': 0.06124066624605572, 'lgb_n_estimators': 123}. Best is trial 23 with value: 0.7423501817178002.\n",
      "[I 2024-07-10 18:17:47,216] Trial 46 finished with value: 0.718027073930221 and parameters: {'classifier': 'RandomForest', 'rf_n_estimators': 147, 'rf_max_depth': 20}. Best is trial 23 with value: 0.7423501817178002.\n",
      "[I 2024-07-10 18:17:47,838] Trial 47 finished with value: 0.6952028962318393 and parameters: {'classifier': 'LightGBM', 'lgb_num_leaves': 44, 'lgb_learning_rate': 0.14749048408936005, 'lgb_n_estimators': 163}. Best is trial 23 with value: 0.7423501817178002.\n",
      "[I 2024-07-10 18:17:51,901] Trial 48 finished with value: 0.7257423879846467 and parameters: {'classifier': 'RandomForest', 'rf_n_estimators': 161, 'rf_max_depth': 20}. Best is trial 23 with value: 0.7423501817178002.\n",
      "[I 2024-07-10 18:17:55,564] Trial 49 finished with value: 0.6815929626770804 and parameters: {'classifier': 'RandomForest', 'rf_n_estimators': 148, 'rf_max_depth': 20}. Best is trial 23 with value: 0.7423501817178002.\n",
      "[I 2024-07-10 18:17:56,245] Trial 50 finished with value: 0.7223752898957168 and parameters: {'classifier': 'LightGBM', 'lgb_num_leaves': 49, 'lgb_learning_rate': 0.06489499578773865, 'lgb_n_estimators': 128}. Best is trial 23 with value: 0.7423501817178002.\n",
      "[I 2024-07-10 18:18:00,528] Trial 51 finished with value: 0.7198662303798403 and parameters: {'classifier': 'RandomForest', 'rf_n_estimators': 164, 'rf_max_depth': 20}. Best is trial 23 with value: 0.7423501817178002.\n",
      "[I 2024-07-10 18:18:04,923] Trial 52 finished with value: 0.6815868087119048 and parameters: {'classifier': 'RandomForest', 'rf_n_estimators': 162, 'rf_max_depth': 20}. Best is trial 23 with value: 0.7423501817178002.\n",
      "[I 2024-07-10 18:18:08,488] Trial 53 finished with value: 0.7256289791978394 and parameters: {'classifier': 'RandomForest', 'rf_n_estimators': 132, 'rf_max_depth': 20}. Best is trial 23 with value: 0.7423501817178002.\n",
      "[I 2024-07-10 18:18:12,970] Trial 54 finished with value: 0.7442552735085866 and parameters: {'classifier': 'RandomForest', 'rf_n_estimators': 182, 'rf_max_depth': 20}. Best is trial 54 with value: 0.7442552735085866.\n",
      "[I 2024-07-10 18:20:09,119] Trial 55 finished with value: 0.49982680983720124 and parameters: {'classifier': 'SVM', 'svm_C': 5.039544450782989, 'svm_kernel': 'linear'}. Best is trial 54 with value: 0.7442552735085866.\n",
      "[I 2024-07-10 18:20:11,478] Trial 56 finished with value: 0.6206669491629728 and parameters: {'classifier': 'KNeighbors', 'kn_n_neighbors': 5}. Best is trial 54 with value: 0.7442552735085866.\n",
      "[I 2024-07-10 18:20:11,984] Trial 57 finished with value: 0.7109922125966393 and parameters: {'classifier': 'LogisticRegression', 'lr_C': 6.1550365897269055, 'lr_solver': 'liblinear'}. Best is trial 54 with value: 0.7442552735085866.\n",
      "[I 2024-07-10 18:20:16,355] Trial 58 finished with value: 0.7529499471638134 and parameters: {'classifier': 'RandomForest', 'rf_n_estimators': 177, 'rf_max_depth': 20}. Best is trial 58 with value: 0.7529499471638134.\n",
      "[I 2024-07-10 18:20:20,954] Trial 59 finished with value: 0.6878691280183 and parameters: {'classifier': 'RandomForest', 'rf_n_estimators': 183, 'rf_max_depth': 20}. Best is trial 58 with value: 0.7529499471638134.\n",
      "[I 2024-07-10 18:20:21,740] Trial 60 finished with value: 0.698147128999418 and parameters: {'classifier': 'LightGBM', 'lgb_num_leaves': 38, 'lgb_learning_rate': 0.12432721178958461, 'lgb_n_estimators': 168}. Best is trial 58 with value: 0.7529499471638134.\n",
      "[I 2024-07-10 18:20:26,626] Trial 61 finished with value: 0.7184270816666345 and parameters: {'classifier': 'RandomForest', 'rf_n_estimators': 192, 'rf_max_depth': 20}. Best is trial 58 with value: 0.7529499471638134.\n",
      "[I 2024-07-10 18:20:31,375] Trial 62 finished with value: 0.7062686047554326 and parameters: {'classifier': 'RandomForest', 'rf_n_estimators': 181, 'rf_max_depth': 20}. Best is trial 58 with value: 0.7529499471638134.\n",
      "[I 2024-07-10 18:20:36,004] Trial 63 finished with value: 0.7068954300654606 and parameters: {'classifier': 'RandomForest', 'rf_n_estimators': 179, 'rf_max_depth': 20}. Best is trial 58 with value: 0.7529499471638134.\n",
      "[I 2024-07-10 18:20:40,971] Trial 64 finished with value: 0.6641789995059245 and parameters: {'classifier': 'RandomForest', 'rf_n_estimators': 190, 'rf_max_depth': 20}. Best is trial 58 with value: 0.7529499471638134.\n",
      "[I 2024-07-10 18:20:45,598] Trial 65 finished with value: 0.6674696125991008 and parameters: {'classifier': 'RandomForest', 'rf_n_estimators': 143, 'rf_max_depth': None}. Best is trial 58 with value: 0.7529499471638134.\n",
      "[I 2024-07-10 18:20:48,088] Trial 66 finished with value: 0.6869970232391307 and parameters: {'classifier': 'RandomForest', 'rf_n_estimators': 132, 'rf_max_depth': 10}. Best is trial 58 with value: 0.7529499471638134.\n",
      "[I 2024-07-10 18:20:48,968] Trial 67 finished with value: 0.7371852466597155 and parameters: {'classifier': 'LightGBM', 'lgb_num_leaves': 45, 'lgb_learning_rate': 0.0768439837275782, 'lgb_n_estimators': 198}. Best is trial 58 with value: 0.7529499471638134.\n",
      "[I 2024-07-10 18:20:49,797] Trial 68 finished with value: 0.7145817325697729 and parameters: {'classifier': 'LightGBM', 'lgb_num_leaves': 45, 'lgb_learning_rate': 0.07352534683829651, 'lgb_n_estimators': 197}. Best is trial 58 with value: 0.7529499471638134.\n",
      "[I 2024-07-10 18:20:50,428] Trial 69 finished with value: 0.7062809126857839 and parameters: {'classifier': 'LightGBM', 'lgb_num_leaves': 43, 'lgb_learning_rate': 0.08259705920013978, 'lgb_n_estimators': 150}. Best is trial 58 with value: 0.7529499471638134.\n",
      "[I 2024-07-10 18:20:51,184] Trial 70 finished with value: 0.7061675038989765 and parameters: {'classifier': 'LightGBM', 'lgb_num_leaves': 48, 'lgb_learning_rate': 0.04062795179197985, 'lgb_n_estimators': 199}. Best is trial 58 with value: 0.7529499471638134.\n",
      "[I 2024-07-10 18:20:51,749] Trial 71 finished with value: 0.6836773985958409 and parameters: {'classifier': 'LightGBM', 'lgb_num_leaves': 39, 'lgb_learning_rate': 0.11837619086394642, 'lgb_n_estimators': 134}. Best is trial 58 with value: 0.7529499471638134.\n",
      "[I 2024-07-10 18:20:55,840] Trial 72 finished with value: 0.6773766173939187 and parameters: {'classifier': 'RandomForest', 'rf_n_estimators': 153, 'rf_max_depth': 20}. Best is trial 58 with value: 0.7529499471638134.\n",
      "[I 2024-07-10 18:20:58,148] Trial 73 finished with value: 0.6225061056125921 and parameters: {'classifier': 'KNeighbors', 'kn_n_neighbors': 4}. Best is trial 58 with value: 0.7529499471638134.\n",
      "[I 2024-07-10 18:20:58,639] Trial 74 finished with value: 0.7001533216466604 and parameters: {'classifier': 'LogisticRegression', 'lr_C': 3.0993209422212473, 'lr_solver': 'liblinear'}. Best is trial 58 with value: 0.7529499471638134.\n",
      "[I 2024-07-10 18:21:02,243] Trial 75 finished with value: 0.6808342666847182 and parameters: {'classifier': 'RandomForest', 'rf_n_estimators': 137, 'rf_max_depth': 20}. Best is trial 58 with value: 0.7529499471638134.\n",
      "[I 2024-07-10 18:22:05,185] Trial 76 finished with value: 0.6391033496911589 and parameters: {'classifier': 'SVM', 'svm_C': 9.28207755183789, 'svm_kernel': 'rbf'}. Best is trial 58 with value: 0.7529499471638134.\n",
      "[I 2024-07-10 18:22:05,889] Trial 77 finished with value: 0.7177650908413173 and parameters: {'classifier': 'LightGBM', 'lgb_num_leaves': 46, 'lgb_learning_rate': 0.04439232597946453, 'lgb_n_estimators': 174}. Best is trial 58 with value: 0.7529499471638134.\n",
      "[I 2024-07-10 18:22:11,343] Trial 78 finished with value: 0.6524143763659606 and parameters: {'classifier': 'RandomForest', 'rf_n_estimators': 195, 'rf_max_depth': 20}. Best is trial 58 with value: 0.7529499471638134.\n",
      "[I 2024-07-10 18:22:14,397] Trial 79 finished with value: 0.7493191077102151 and parameters: {'classifier': 'RandomForest', 'rf_n_estimators': 170, 'rf_max_depth': 10}. Best is trial 58 with value: 0.7529499471638134.\n",
      "[I 2024-07-10 18:22:17,621] Trial 80 finished with value: 0.6897082844679194 and parameters: {'classifier': 'RandomForest', 'rf_n_estimators': 187, 'rf_max_depth': 10}. Best is trial 58 with value: 0.7529499471638134.\n",
      "[I 2024-07-10 18:22:20,098] Trial 81 finished with value: 0.7346164057678477 and parameters: {'classifier': 'RandomForest', 'rf_n_estimators': 174, 'rf_max_depth': 10}. Best is trial 58 with value: 0.7529499471638134.\n",
      "[I 2024-07-10 18:22:22,528] Trial 82 finished with value: 0.6901144461695082 and parameters: {'classifier': 'RandomForest', 'rf_n_estimators': 171, 'rf_max_depth': 10}. Best is trial 58 with value: 0.7529499471638134.\n",
      "[I 2024-07-10 18:22:26,065] Trial 83 finished with value: 0.705384192045912 and parameters: {'classifier': 'RandomForest', 'rf_n_estimators': 178, 'rf_max_depth': 10}. Best is trial 58 with value: 0.7529499471638134.\n",
      "[I 2024-07-10 18:22:29,153] Trial 84 finished with value: 0.6673438958819424 and parameters: {'classifier': 'RandomForest', 'rf_n_estimators': 172, 'rf_max_depth': 10}. Best is trial 58 with value: 0.7529499471638134.\n",
      "[I 2024-07-10 18:22:32,619] Trial 85 finished with value: 0.6671170783083278 and parameters: {'classifier': 'RandomForest', 'rf_n_estimators': 167, 'rf_max_depth': 10}. Best is trial 58 with value: 0.7529499471638134.\n",
      "[I 2024-07-10 18:22:33,367] Trial 86 finished with value: 0.7147074492869312 and parameters: {'classifier': 'LightGBM', 'lgb_num_leaves': 50, 'lgb_learning_rate': 0.01467163791780246, 'lgb_n_estimators': 154}. Best is trial 58 with value: 0.7529499471638134.\n",
      "[I 2024-07-10 18:22:36,202] Trial 87 finished with value: 0.7020997329179113 and parameters: {'classifier': 'RandomForest', 'rf_n_estimators': 158, 'rf_max_depth': 10}. Best is trial 58 with value: 0.7529499471638134.\n",
      "[I 2024-07-10 18:22:42,410] Trial 88 finished with value: 0.6839578435802713 and parameters: {'classifier': 'RandomForest', 'rf_n_estimators': 185, 'rf_max_depth': None}. Best is trial 58 with value: 0.7529499471638134.\n",
      "[I 2024-07-10 18:22:44,640] Trial 89 finished with value: 0.6078754929765674 and parameters: {'classifier': 'KNeighbors', 'kn_n_neighbors': 7}. Best is trial 58 with value: 0.7529499471638134.\n",
      "[I 2024-07-10 18:22:47,780] Trial 90 finished with value: 0.7408450976634273 and parameters: {'classifier': 'RandomForest', 'rf_n_estimators': 177, 'rf_max_depth': 10}. Best is trial 58 with value: 0.7529499471638134.\n",
      "[I 2024-07-10 18:22:50,812] Trial 91 finished with value: 0.7134581943562864 and parameters: {'classifier': 'RandomForest', 'rf_n_estimators': 178, 'rf_max_depth': 10}. Best is trial 58 with value: 0.7529499471638134.\n",
      "[I 2024-07-10 18:22:54,175] Trial 92 finished with value: 0.7430842618494601 and parameters: {'classifier': 'RandomForest', 'rf_n_estimators': 177, 'rf_max_depth': 10}. Best is trial 58 with value: 0.7529499471638134.\n",
      "[I 2024-07-10 18:22:57,439] Trial 93 finished with value: 0.7395729851478448 and parameters: {'classifier': 'RandomForest', 'rf_n_estimators': 176, 'rf_max_depth': 10}. Best is trial 58 with value: 0.7529499471638134.\n",
      "[I 2024-07-10 18:23:00,626] Trial 94 finished with value: 0.6653192413391731 and parameters: {'classifier': 'RandomForest', 'rf_n_estimators': 176, 'rf_max_depth': 10}. Best is trial 58 with value: 0.7529499471638134.\n",
      "[I 2024-07-10 18:23:03,866] Trial 95 finished with value: 0.6998544147667032 and parameters: {'classifier': 'RandomForest', 'rf_n_estimators': 169, 'rf_max_depth': 10}. Best is trial 58 with value: 0.7529499471638134.\n",
      "[I 2024-07-10 18:23:06,971] Trial 96 finished with value: 0.6946648638479163 and parameters: {'classifier': 'RandomForest', 'rf_n_estimators': 182, 'rf_max_depth': 10}. Best is trial 58 with value: 0.7529499471638134.\n",
      "[I 2024-07-10 18:23:09,727] Trial 97 finished with value: 0.6535607721643848 and parameters: {'classifier': 'RandomForest', 'rf_n_estimators': 145, 'rf_max_depth': 10}. Best is trial 58 with value: 0.7529499471638134.\n",
      "[I 2024-07-10 18:23:12,396] Trial 98 finished with value: 0.7065428957746875 and parameters: {'classifier': 'RandomForest', 'rf_n_estimators': 151, 'rf_max_depth': 10}. Best is trial 58 with value: 0.7529499471638134.\n",
      "[I 2024-07-10 18:23:15,227] Trial 99 finished with value: 0.7237836687830446 and parameters: {'classifier': 'RandomForest', 'rf_n_estimators': 140, 'rf_max_depth': 10}. Best is trial 58 with value: 0.7529499471638134.\n"
     ]
    }
   ],
   "source": [
    "# Optuna Study\n",
    "study = optuna.create_study(direction='maximize', sampler=optuna.samplers.TPESampler())\n",
    "study.optimize(objective, n_trials=100)"
   ]
  },
  {
   "cell_type": "code",
   "execution_count": 76,
   "id": "0a298027",
   "metadata": {},
   "outputs": [
    {
     "name": "stdout",
     "output_type": "stream",
     "text": [
      "Best trial:  [0.7529499471638134]\n",
      "Best hyperparameters:  {'classifier': 'RandomForest', 'rf_n_estimators': 177, 'rf_max_depth': 20}\n"
     ]
    }
   ],
   "source": [
    "best_trial = study.best_trial\n",
    "print('Best trial: ', best_trial.values)\n",
    "print('Best hyperparameters: ', best_trial.params)"
   ]
  },
  {
   "cell_type": "code",
   "execution_count": 77,
   "id": "c6d46ebf",
   "metadata": {},
   "outputs": [
    {
     "name": "stdout",
     "output_type": "stream",
     "text": [
      "Optimal algorithm proportions:  RandomForest          59\n",
      "LightGBM              19\n",
      "KNeighbors             8\n",
      "SVM                    7\n",
      "LogisticRegression     7\n",
      "Name: count, dtype: int64\n"
     ]
    }
   ],
   "source": [
    "# Optimized Alogrithm Combination\n",
    "best_algorithms = [trial.params['classifier'] for trial in study.trials]\n",
    "algorithm_counts = pd.Series(best_algorithms).value_counts()\n",
    "print('Optimal algorithm proportions: ', algorithm_counts)"
   ]
  },
  {
   "cell_type": "code",
   "execution_count": 78,
   "id": "28b63bb8",
   "metadata": {},
   "outputs": [],
   "source": [
    "# Function05: Evaluation\n",
    "def evaluate_model(model, X_train, y_train, X_test, y_test, threshold):\n",
    "    model.fit(X_train, y_train)\n",
    "    y_prob = model.predict_proba(X_test)[:, 1]\n",
    "    y_pred = (y_prob >= threshold).astype(int)\n",
    "\n",
    "    accuracy = accuracy_score(y_test, y_pred)\n",
    "    precision = precision_score(y_test, y_pred)\n",
    "    recall = recall_score(y_test, y_pred)\n",
    "    f1 = f1_score(y_test, y_pred)\n",
    "    roc_auc = roc_auc_score(y_test, y_prob)\n",
    "    \n",
    "    return accuracy, precision, recall, f1, roc_auc"
   ]
  },
  {
   "cell_type": "code",
   "execution_count": 80,
   "id": "de040a92",
   "metadata": {},
   "outputs": [],
   "source": [
    "top_5_trials = study.trials_dataframe().sort_values(by='value', ascending=False).head(5)\n",
    "results = []\n",
    "\n",
    "for i, row in top_5_trials.iterrows():\n",
    "    model_name = row['params_classifier']\n",
    "    threshold = study.trials[row['number']].user_attrs['best_threshold']\n",
    "    model_params = study.trials[row['number']].params\n",
    "\n",
    "    if model_name == 'LogisticRegression':\n",
    "        params = {'C': model_params['lr_C'], 'solver': model_params['lr_solver']}\n",
    "        final_model = LogisticRegression(**params)\n",
    "    elif model_name == 'SVM':\n",
    "        params = {'C': model_params['svm_C'], 'kernel': model_params['svm_kernel']}\n",
    "        final_model = SVC(**params, probability=True)\n",
    "    elif model_name == 'KNeighbors':\n",
    "        params = {'n_neighbors': model_params['kn_n_neighbors']}\n",
    "        final_model = KNeighborsClassifier(**params)\n",
    "    elif model_name == 'RandomForest':\n",
    "        params = {'n_estimators': model_params['rf_n_estimators'], 'max_depth': model_params['rf_max_depth']}\n",
    "        final_model = RandomForestClassifier(**params)\n",
    "    elif model_name == 'LightGBM':\n",
    "        params = {'num_leaves': model_params['lgb_num_leaves'], 'learning_rate': model_params['lgb_learning_rate'], 'n_estimators': model_params['lgb_n_estimators']}\n",
    "        final_model = lgb.LGBMClassifier(**params, verbose=-1)\n",
    "\n",
    "    accuracy, precision, recall, f1, roc_auc = evaluate_model(final_model, X_rfecv, y_smote, X_rfecv_test, y_test, threshold)\n",
    "    \n",
    "    results.append({\n",
    "        'model': model_name,\n",
    "        'accuracy': accuracy,\n",
    "        'precision': precision,\n",
    "        'recall': recall,\n",
    "        'f1_score': f1,\n",
    "        'roc_auc': roc_auc,\n",
    "        'best_params': params,\n",
    "        'best_threshold': threshold\n",
    "    })\n",
    "\n",
    "results_df = pd.DataFrame(results)"
   ]
  },
  {
   "cell_type": "code",
   "execution_count": 81,
   "id": "a32cb040",
   "metadata": {},
   "outputs": [
    {
     "data": {
      "text/html": [
       "<div>\n",
       "<style scoped>\n",
       "    .dataframe tbody tr th:only-of-type {\n",
       "        vertical-align: middle;\n",
       "    }\n",
       "\n",
       "    .dataframe tbody tr th {\n",
       "        vertical-align: top;\n",
       "    }\n",
       "\n",
       "    .dataframe thead th {\n",
       "        text-align: right;\n",
       "    }\n",
       "</style>\n",
       "<table border=\"1\" class=\"dataframe\">\n",
       "  <thead>\n",
       "    <tr style=\"text-align: right;\">\n",
       "      <th></th>\n",
       "      <th>model</th>\n",
       "      <th>accuracy</th>\n",
       "      <th>precision</th>\n",
       "      <th>recall</th>\n",
       "      <th>f1_score</th>\n",
       "      <th>roc_auc</th>\n",
       "      <th>best_params</th>\n",
       "      <th>best_threshold</th>\n",
       "    </tr>\n",
       "  </thead>\n",
       "  <tbody>\n",
       "    <tr>\n",
       "      <th>0</th>\n",
       "      <td>RandomForest</td>\n",
       "      <td>0.738003</td>\n",
       "      <td>0.162431</td>\n",
       "      <td>0.746193</td>\n",
       "      <td>0.266788</td>\n",
       "      <td>0.819768</td>\n",
       "      <td>{'n_estimators': 177, 'max_depth': 20}</td>\n",
       "      <td>0.28</td>\n",
       "    </tr>\n",
       "    <tr>\n",
       "      <th>1</th>\n",
       "      <td>RandomForest</td>\n",
       "      <td>0.742866</td>\n",
       "      <td>0.164414</td>\n",
       "      <td>0.741117</td>\n",
       "      <td>0.269124</td>\n",
       "      <td>0.816614</td>\n",
       "      <td>{'n_estimators': 170, 'max_depth': 10}</td>\n",
       "      <td>0.49</td>\n",
       "    </tr>\n",
       "    <tr>\n",
       "      <th>2</th>\n",
       "      <td>RandomForest</td>\n",
       "      <td>0.765240</td>\n",
       "      <td>0.171036</td>\n",
       "      <td>0.695431</td>\n",
       "      <td>0.274549</td>\n",
       "      <td>0.821595</td>\n",
       "      <td>{'n_estimators': 182, 'max_depth': 20}</td>\n",
       "      <td>0.31</td>\n",
       "    </tr>\n",
       "    <tr>\n",
       "      <th>3</th>\n",
       "      <td>RandomForest</td>\n",
       "      <td>0.735409</td>\n",
       "      <td>0.160263</td>\n",
       "      <td>0.741117</td>\n",
       "      <td>0.263538</td>\n",
       "      <td>0.814120</td>\n",
       "      <td>{'n_estimators': 177, 'max_depth': 10}</td>\n",
       "      <td>0.48</td>\n",
       "    </tr>\n",
       "    <tr>\n",
       "      <th>4</th>\n",
       "      <td>RandomForest</td>\n",
       "      <td>0.767510</td>\n",
       "      <td>0.169211</td>\n",
       "      <td>0.675127</td>\n",
       "      <td>0.270600</td>\n",
       "      <td>0.819158</td>\n",
       "      <td>{'n_estimators': 134, 'max_depth': 20}</td>\n",
       "      <td>0.31</td>\n",
       "    </tr>\n",
       "  </tbody>\n",
       "</table>\n",
       "</div>"
      ],
      "text/plain": [
       "          model  accuracy  precision    recall  f1_score   roc_auc  \\\n",
       "0  RandomForest  0.738003   0.162431  0.746193  0.266788  0.819768   \n",
       "1  RandomForest  0.742866   0.164414  0.741117  0.269124  0.816614   \n",
       "2  RandomForest  0.765240   0.171036  0.695431  0.274549  0.821595   \n",
       "3  RandomForest  0.735409   0.160263  0.741117  0.263538  0.814120   \n",
       "4  RandomForest  0.767510   0.169211  0.675127  0.270600  0.819158   \n",
       "\n",
       "                              best_params  best_threshold  \n",
       "0  {'n_estimators': 177, 'max_depth': 20}            0.28  \n",
       "1  {'n_estimators': 170, 'max_depth': 10}            0.49  \n",
       "2  {'n_estimators': 182, 'max_depth': 20}            0.31  \n",
       "3  {'n_estimators': 177, 'max_depth': 10}            0.48  \n",
       "4  {'n_estimators': 134, 'max_depth': 20}            0.31  "
      ]
     },
     "execution_count": 81,
     "metadata": {},
     "output_type": "execute_result"
    }
   ],
   "source": [
    "results_df"
   ]
  },
  {
   "cell_type": "markdown",
   "id": "707304f2",
   "metadata": {},
   "source": [
    "### 02) Visualization - Feature Importance"
   ]
  },
  {
   "cell_type": "code",
   "execution_count": 82,
   "id": "38ece776",
   "metadata": {},
   "outputs": [],
   "source": [
    "best_model_info = results_df.iloc[0]\n",
    "best_model = best_model_info['model']\n",
    "best_model_params = best_model_info['best_params']\n",
    "best_threshold = best_model_info['best_threshold']\n",
    "\n",
    "final_model = None\n",
    "if best_model == 'LogisticRegression':\n",
    "    final_model = LogisticRegression(**best_model_params)\n",
    "elif best_model == 'SVM':\n",
    "    final_model = SVC(**best_model_params, probability=True)\n",
    "elif best_model == 'KNeighbors':\n",
    "    final_model = KNeighborsClassifier(**best_model_params)\n",
    "elif best_model == 'RandomForest':\n",
    "    final_model = RandomForestClassifier(**best_model_params)\n",
    "elif best_model == 'LightGBM':\n",
    "    final_model = lgb.LGBMClassifier(**best_model_params, verbose=-1)\n",
    "\n",
    "final_model.fit(X_rfecv, y_smote)\n",
    "result = permutation_importance(final_model, X_rfecv_test, y_test, n_repeats=10, random_state=42)\n",
    "feature_importance = result.importances_mean\n",
    "features = X_rfecv.columns\n",
    "\n",
    "importance_df = pd.DataFrame({\n",
    "    'feature': features,\n",
    "    'importance': feature_importance\n",
    "}).sort_values(by='importance', ascending=False)"
   ]
  }
 ],
 "metadata": {
  "kernelspec": {
   "display_name": "Python 3 (ipykernel)",
   "language": "python",
   "name": "python3"
  },
  "language_info": {
   "codemirror_mode": {
    "name": "ipython",
    "version": 3
   },
   "file_extension": ".py",
   "mimetype": "text/x-python",
   "name": "python",
   "nbconvert_exporter": "python",
   "pygments_lexer": "ipython3",
   "version": "3.12.0"
  }
 },
 "nbformat": 4,
 "nbformat_minor": 5
}
